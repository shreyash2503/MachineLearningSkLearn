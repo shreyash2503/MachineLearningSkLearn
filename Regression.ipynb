{
 "cells": [
  {
   "cell_type": "code",
   "execution_count": 1,
   "metadata": {},
   "outputs": [],
   "source": [
    "import numpy as np\n",
    "import pandas as pd\n",
    "import matplotlib.pyplot as plt\n",
    "import seaborn as sns\n",
    "import math, copy"
   ]
  },
  {
   "attachments": {},
   "cell_type": "markdown",
   "metadata": {},
   "source": [
    "### Computing the cost function (for regressor with one feature)"
   ]
  },
  {
   "cell_type": "code",
   "execution_count": 3,
   "metadata": {},
   "outputs": [],
   "source": [
    "x = np.array([1.0, 2.0])\n",
    "y = np.array([300.0, 500.0])"
   ]
  },
  {
   "cell_type": "code",
   "execution_count": 4,
   "metadata": {},
   "outputs": [],
   "source": [
    "def compute_cost(x, y, w, b):\n",
    "    total_cost = 0\n",
    "    for i in range(len(x)):\n",
    "        equ = w * x[i] + b\n",
    "        cost = (equ - y[i]) ** 2\n",
    "        total_cost += cost\n",
    "    return total_cost / (2 * len(x))"
   ]
  },
  {
   "attachments": {},
   "cell_type": "markdown",
   "metadata": {},
   "source": [
    "### Computing Gradient descent (for regressor with one feature)"
   ]
  },
  {
   "cell_type": "code",
   "execution_count": 5,
   "metadata": {},
   "outputs": [],
   "source": [
    "def compute_gradient(x, y, w, b):\n",
    "    d_wb_w = 0\n",
    "    d_wb_b = 0\n",
    "    m = len(x)\n",
    "    for i in range(m):\n",
    "        f_wb = w * x[i] + b\n",
    "        dj_dw_i = (f_wb - y[i]) * x[i]\n",
    "        dj_db_i = (f_wb - y[i])\n",
    "        d_wb_w += dj_dw_i\n",
    "        d_wb_b += dj_db_i\n",
    "    d_wb_w = d_wb_w / m\n",
    "    d_wb_b = d_wb_b / m\n",
    "    return d_wb_w, d_wb_b\n"
   ]
  },
  {
   "attachments": {},
   "cell_type": "markdown",
   "metadata": {},
   "source": [
    "### Calculating Gradient descent for finding optimal values of w and b"
   ]
  },
  {
   "cell_type": "code",
   "execution_count": 6,
   "metadata": {},
   "outputs": [],
   "source": [
    "def gradient_descent(x, y, w_in, b_in, alpha, num_iters, compute_cost, compute_gradient):\n",
    "    w = copy.deepcopy(w_in)\n",
    "    J_history = []\n",
    "    p_history = []\n",
    "    b = b_in\n",
    "    w = w_in\n",
    "    for i in range(num_iters):\n",
    "        dj_dw, dj_db = compute_gradient(x, y, w, b)\n",
    "        b = b - alpha * dj_dw\n",
    "        w = w - alpha * dj_db\n",
    "        if i < 100000:  # -> Prevent exhaustion of RAM\n",
    "            J_history.append(compute_cost(x, y, w, b))\n",
    "            p_history.append([w,b])\n",
    "        if i % math.ceil(num_iters /10) == 0:\n",
    "            print(f\"Iteration {i:4}: Cost {J_history[-1]:0.2e}\", f\"dj_dw : {dj_dw:0.3e}, dj_db : {dj_db : 0.3e}\", f\"w : {w : 0.3e}, b : {b:0.5e}\")\n",
    "    return w, b, J_history, p_history # For graphing\n"
   ]
  },
  {
   "cell_type": "code",
   "execution_count": 7,
   "metadata": {},
   "outputs": [
    {
     "name": "stdout",
     "output_type": "stream",
     "text": [
      "Iteration    0: Cost 7.99e+04 dj_dw : -6.500e+02, dj_db : -4.000e+02 w :  4.000e+00, b : 6.50000e+00\n",
      "Iteration 1000: Cost 3.04e+03 dj_dw : -1.974e+01, dj_db :  1.248e+01 w :  4.601e+01, b : 3.43485e+02\n",
      "Iteration 2000: Cost 1.54e+04 dj_dw : -4.442e+01, dj_db :  2.809e+01 w : -1.465e+02, b : 6.47912e+02\n",
      "Iteration 3000: Cost 7.80e+04 dj_dw : -9.996e+01, dj_db :  6.322e+01 w : -5.798e+02, b : 1.33296e+03\n",
      "Iteration 4000: Cost 3.95e+05 dj_dw : -2.249e+02, dj_db :  1.423e+02 w : -1.555e+03, b : 2.87452e+03\n",
      "Iteration 5000: Cost 2.00e+06 dj_dw : -5.062e+02, dj_db :  3.201e+02 w : -3.749e+03, b : 6.34348e+03\n",
      "Iteration 6000: Cost 1.01e+07 dj_dw : -1.139e+03, dj_db :  7.204e+02 w : -8.686e+03, b : 1.41496e+04\n",
      "Iteration 7000: Cost 5.13e+07 dj_dw : -2.563e+03, dj_db :  1.621e+03 w : -1.980e+04, b : 3.17158e+04\n",
      "Iteration 8000: Cost 2.60e+08 dj_dw : -5.768e+03, dj_db :  3.648e+03 w : -4.480e+04, b : 7.12447e+04\n",
      "Iteration 9000: Cost 1.32e+09 dj_dw : -1.298e+04, dj_db :  8.209e+03 w : -1.011e+05, b : 1.60196e+05\n",
      "w ->  -227465.5194785667 b_final -> 360070.7931188502\n"
     ]
    }
   ],
   "source": [
    "w_init = 0\n",
    "b_init = 0\n",
    "iterations = 10000\n",
    "tmp_alpha = 1.0e-2\n",
    "w_final, b_final, J_history, p_history = gradient_descent(x, y, w_init, b_init, tmp_alpha, iterations, compute_cost, compute_gradient)\n",
    "print(\"w -> \", w_final, \"b_final ->\", b_final)"
   ]
  },
  {
   "cell_type": "code",
   "execution_count": 8,
   "metadata": {},
   "outputs": [],
   "source": [
    "df = pd.read_csv('Housing.csv')"
   ]
  },
  {
   "cell_type": "code",
   "execution_count": 9,
   "metadata": {},
   "outputs": [
    {
     "data": {
      "text/html": [
       "<div>\n",
       "<style scoped>\n",
       "    .dataframe tbody tr th:only-of-type {\n",
       "        vertical-align: middle;\n",
       "    }\n",
       "\n",
       "    .dataframe tbody tr th {\n",
       "        vertical-align: top;\n",
       "    }\n",
       "\n",
       "    .dataframe thead th {\n",
       "        text-align: right;\n",
       "    }\n",
       "</style>\n",
       "<table border=\"1\" class=\"dataframe\">\n",
       "  <thead>\n",
       "    <tr style=\"text-align: right;\">\n",
       "      <th></th>\n",
       "      <th>price</th>\n",
       "      <th>area</th>\n",
       "      <th>bedrooms</th>\n",
       "      <th>bathrooms</th>\n",
       "      <th>stories</th>\n",
       "      <th>mainroad</th>\n",
       "      <th>guestroom</th>\n",
       "      <th>basement</th>\n",
       "      <th>hotwaterheating</th>\n",
       "      <th>airconditioning</th>\n",
       "      <th>parking</th>\n",
       "      <th>prefarea</th>\n",
       "      <th>furnishingstatus</th>\n",
       "    </tr>\n",
       "  </thead>\n",
       "  <tbody>\n",
       "    <tr>\n",
       "      <th>0</th>\n",
       "      <td>13300000</td>\n",
       "      <td>7420</td>\n",
       "      <td>4</td>\n",
       "      <td>2</td>\n",
       "      <td>3</td>\n",
       "      <td>yes</td>\n",
       "      <td>no</td>\n",
       "      <td>no</td>\n",
       "      <td>no</td>\n",
       "      <td>yes</td>\n",
       "      <td>2</td>\n",
       "      <td>yes</td>\n",
       "      <td>furnished</td>\n",
       "    </tr>\n",
       "    <tr>\n",
       "      <th>1</th>\n",
       "      <td>12250000</td>\n",
       "      <td>8960</td>\n",
       "      <td>4</td>\n",
       "      <td>4</td>\n",
       "      <td>4</td>\n",
       "      <td>yes</td>\n",
       "      <td>no</td>\n",
       "      <td>no</td>\n",
       "      <td>no</td>\n",
       "      <td>yes</td>\n",
       "      <td>3</td>\n",
       "      <td>no</td>\n",
       "      <td>furnished</td>\n",
       "    </tr>\n",
       "    <tr>\n",
       "      <th>2</th>\n",
       "      <td>12250000</td>\n",
       "      <td>9960</td>\n",
       "      <td>3</td>\n",
       "      <td>2</td>\n",
       "      <td>2</td>\n",
       "      <td>yes</td>\n",
       "      <td>no</td>\n",
       "      <td>yes</td>\n",
       "      <td>no</td>\n",
       "      <td>no</td>\n",
       "      <td>2</td>\n",
       "      <td>yes</td>\n",
       "      <td>semi-furnished</td>\n",
       "    </tr>\n",
       "    <tr>\n",
       "      <th>3</th>\n",
       "      <td>12215000</td>\n",
       "      <td>7500</td>\n",
       "      <td>4</td>\n",
       "      <td>2</td>\n",
       "      <td>2</td>\n",
       "      <td>yes</td>\n",
       "      <td>no</td>\n",
       "      <td>yes</td>\n",
       "      <td>no</td>\n",
       "      <td>yes</td>\n",
       "      <td>3</td>\n",
       "      <td>yes</td>\n",
       "      <td>furnished</td>\n",
       "    </tr>\n",
       "    <tr>\n",
       "      <th>4</th>\n",
       "      <td>11410000</td>\n",
       "      <td>7420</td>\n",
       "      <td>4</td>\n",
       "      <td>1</td>\n",
       "      <td>2</td>\n",
       "      <td>yes</td>\n",
       "      <td>yes</td>\n",
       "      <td>yes</td>\n",
       "      <td>no</td>\n",
       "      <td>yes</td>\n",
       "      <td>2</td>\n",
       "      <td>no</td>\n",
       "      <td>furnished</td>\n",
       "    </tr>\n",
       "  </tbody>\n",
       "</table>\n",
       "</div>"
      ],
      "text/plain": [
       "      price  area  bedrooms  bathrooms  stories mainroad guestroom basement  \\\n",
       "0  13300000  7420         4          2        3      yes        no       no   \n",
       "1  12250000  8960         4          4        4      yes        no       no   \n",
       "2  12250000  9960         3          2        2      yes        no      yes   \n",
       "3  12215000  7500         4          2        2      yes        no      yes   \n",
       "4  11410000  7420         4          1        2      yes       yes      yes   \n",
       "\n",
       "  hotwaterheating airconditioning  parking prefarea furnishingstatus  \n",
       "0              no             yes        2      yes        furnished  \n",
       "1              no             yes        3       no        furnished  \n",
       "2              no              no        2      yes   semi-furnished  \n",
       "3              no             yes        3      yes        furnished  \n",
       "4              no             yes        2       no        furnished  "
      ]
     },
     "execution_count": 9,
     "metadata": {},
     "output_type": "execute_result"
    }
   ],
   "source": [
    "df.head()"
   ]
  },
  {
   "attachments": {},
   "cell_type": "markdown",
   "metadata": {},
   "source": [
    "### Scaling the Features between 0 and 1"
   ]
  },
  {
   "cell_type": "code",
   "execution_count": 10,
   "metadata": {},
   "outputs": [],
   "source": [
    "price = df['price'] / df['price'].max()\n",
    "area = df['area'] / df['area'].max()"
   ]
  },
  {
   "cell_type": "code",
   "execution_count": 11,
   "metadata": {},
   "outputs": [
    {
     "data": {
      "text/plain": [
       "0      1.000000\n",
       "1      0.921053\n",
       "2      0.921053\n",
       "3      0.918421\n",
       "4      0.857895\n",
       "         ...   \n",
       "540    0.136842\n",
       "541    0.132868\n",
       "542    0.131579\n",
       "543    0.131579\n",
       "544    0.131579\n",
       "Name: price, Length: 545, dtype: float64"
      ]
     },
     "execution_count": 11,
     "metadata": {},
     "output_type": "execute_result"
    }
   ],
   "source": [
    "price"
   ]
  },
  {
   "cell_type": "code",
   "execution_count": 12,
   "metadata": {},
   "outputs": [
    {
     "data": {
      "text/plain": [
       "0      0.458025\n",
       "1      0.553086\n",
       "2      0.614815\n",
       "3      0.462963\n",
       "4      0.458025\n",
       "         ...   \n",
       "540    0.185185\n",
       "541    0.148148\n",
       "542    0.223457\n",
       "543    0.179630\n",
       "544    0.237654\n",
       "Name: area, Length: 545, dtype: float64"
      ]
     },
     "execution_count": 12,
     "metadata": {},
     "output_type": "execute_result"
    }
   ],
   "source": [
    "area"
   ]
  },
  {
   "cell_type": "code",
   "execution_count": 13,
   "metadata": {},
   "outputs": [
    {
     "name": "stdout",
     "output_type": "stream",
     "text": [
      "Iteration    0: Cost 7.38e-02 dj_dw : -1.240e-01, dj_db : -3.584e-01 w :  1.075e-03, b : 3.72082e-04\n"
     ]
    },
    {
     "ename": "KeyboardInterrupt",
     "evalue": "",
     "output_type": "error",
     "traceback": [
      "\u001b[1;31m---------------------------------------------------------------------------\u001b[0m",
      "\u001b[1;31mKeyboardInterrupt\u001b[0m                         Traceback (most recent call last)",
      "\u001b[1;32md:\\python\\SupervisedModels\\Regression.ipynb Cell 17\u001b[0m in \u001b[0;36m<cell line: 1>\u001b[1;34m()\u001b[0m\n\u001b[1;32m----> <a href='vscode-notebook-cell:/d%3A/python/SupervisedModels/Regression.ipynb#X22sZmlsZQ%3D%3D?line=0'>1</a>\u001b[0m w, b, J_history, p_history \u001b[39m=\u001b[39m gradient_descent(area, price, \u001b[39m0\u001b[39;49m, \u001b[39m0\u001b[39;49m, \u001b[39m0.003\u001b[39;49m, \u001b[39m9000\u001b[39;49m, compute_cost, compute_gradient)\n",
      "\u001b[1;32md:\\python\\SupervisedModels\\Regression.ipynb Cell 17\u001b[0m in \u001b[0;36mgradient_descent\u001b[1;34m(x, y, w_in, b_in, alpha, num_iters, compute_cost, compute_gradient)\u001b[0m\n\u001b[0;32m     <a href='vscode-notebook-cell:/d%3A/python/SupervisedModels/Regression.ipynb#X22sZmlsZQ%3D%3D?line=9'>10</a>\u001b[0m w \u001b[39m=\u001b[39m w \u001b[39m-\u001b[39m alpha \u001b[39m*\u001b[39m dj_db\n\u001b[0;32m     <a href='vscode-notebook-cell:/d%3A/python/SupervisedModels/Regression.ipynb#X22sZmlsZQ%3D%3D?line=10'>11</a>\u001b[0m \u001b[39mif\u001b[39;00m i \u001b[39m<\u001b[39m \u001b[39m100000\u001b[39m:  \u001b[39m# -> Prevent exhaustion of RAM\u001b[39;00m\n\u001b[1;32m---> <a href='vscode-notebook-cell:/d%3A/python/SupervisedModels/Regression.ipynb#X22sZmlsZQ%3D%3D?line=11'>12</a>\u001b[0m     J_history\u001b[39m.\u001b[39mappend(compute_cost(x, y, w, b))\n\u001b[0;32m     <a href='vscode-notebook-cell:/d%3A/python/SupervisedModels/Regression.ipynb#X22sZmlsZQ%3D%3D?line=12'>13</a>\u001b[0m     p_history\u001b[39m.\u001b[39mappend([w,b])\n\u001b[0;32m     <a href='vscode-notebook-cell:/d%3A/python/SupervisedModels/Regression.ipynb#X22sZmlsZQ%3D%3D?line=13'>14</a>\u001b[0m \u001b[39mif\u001b[39;00m i \u001b[39m%\u001b[39m math\u001b[39m.\u001b[39mceil(num_iters \u001b[39m/\u001b[39m\u001b[39m10\u001b[39m) \u001b[39m==\u001b[39m \u001b[39m0\u001b[39m:\n",
      "\u001b[1;32md:\\python\\SupervisedModels\\Regression.ipynb Cell 17\u001b[0m in \u001b[0;36mcompute_cost\u001b[1;34m(x, y, w, b)\u001b[0m\n\u001b[0;32m      <a href='vscode-notebook-cell:/d%3A/python/SupervisedModels/Regression.ipynb#X22sZmlsZQ%3D%3D?line=1'>2</a>\u001b[0m total_cost \u001b[39m=\u001b[39m \u001b[39m0\u001b[39m\n\u001b[0;32m      <a href='vscode-notebook-cell:/d%3A/python/SupervisedModels/Regression.ipynb#X22sZmlsZQ%3D%3D?line=2'>3</a>\u001b[0m \u001b[39mfor\u001b[39;00m i \u001b[39min\u001b[39;00m \u001b[39mrange\u001b[39m(\u001b[39mlen\u001b[39m(x)):\n\u001b[1;32m----> <a href='vscode-notebook-cell:/d%3A/python/SupervisedModels/Regression.ipynb#X22sZmlsZQ%3D%3D?line=3'>4</a>\u001b[0m     equ \u001b[39m=\u001b[39m w \u001b[39m*\u001b[39m x[i] \u001b[39m+\u001b[39m b\n\u001b[0;32m      <a href='vscode-notebook-cell:/d%3A/python/SupervisedModels/Regression.ipynb#X22sZmlsZQ%3D%3D?line=4'>5</a>\u001b[0m     cost \u001b[39m=\u001b[39m (equ \u001b[39m-\u001b[39m y[i]) \u001b[39m*\u001b[39m\u001b[39m*\u001b[39m \u001b[39m2\u001b[39m\n\u001b[0;32m      <a href='vscode-notebook-cell:/d%3A/python/SupervisedModels/Regression.ipynb#X22sZmlsZQ%3D%3D?line=5'>6</a>\u001b[0m     total_cost \u001b[39m+\u001b[39m\u001b[39m=\u001b[39m cost\n",
      "File \u001b[1;32mc:\\Users\\Shreyash\\AppData\\Local\\Programs\\Python\\Python310\\lib\\site-packages\\pandas\\core\\series.py:981\u001b[0m, in \u001b[0;36mSeries.__getitem__\u001b[1;34m(self, key)\u001b[0m\n\u001b[0;32m    978\u001b[0m     \u001b[39mreturn\u001b[39;00m \u001b[39mself\u001b[39m\u001b[39m.\u001b[39m_values[key]\n\u001b[0;32m    980\u001b[0m \u001b[39melif\u001b[39;00m key_is_scalar:\n\u001b[1;32m--> 981\u001b[0m     \u001b[39mreturn\u001b[39;00m \u001b[39mself\u001b[39;49m\u001b[39m.\u001b[39;49m_get_value(key)\n\u001b[0;32m    983\u001b[0m \u001b[39mif\u001b[39;00m is_hashable(key):\n\u001b[0;32m    984\u001b[0m     \u001b[39m# Otherwise index.get_value will raise InvalidIndexError\u001b[39;00m\n\u001b[0;32m    985\u001b[0m     \u001b[39mtry\u001b[39;00m:\n\u001b[0;32m    986\u001b[0m         \u001b[39m# For labels that don't resolve as scalars like tuples and frozensets\u001b[39;00m\n",
      "File \u001b[1;32mc:\\Users\\Shreyash\\AppData\\Local\\Programs\\Python\\Python310\\lib\\site-packages\\pandas\\core\\series.py:1089\u001b[0m, in \u001b[0;36mSeries._get_value\u001b[1;34m(self, label, takeable)\u001b[0m\n\u001b[0;32m   1086\u001b[0m     \u001b[39mreturn\u001b[39;00m \u001b[39mself\u001b[39m\u001b[39m.\u001b[39m_values[label]\n\u001b[0;32m   1088\u001b[0m \u001b[39m# Similar to Index.get_value, but we do not fall back to positional\u001b[39;00m\n\u001b[1;32m-> 1089\u001b[0m loc \u001b[39m=\u001b[39m \u001b[39mself\u001b[39;49m\u001b[39m.\u001b[39;49mindex\u001b[39m.\u001b[39;49mget_loc(label)\n\u001b[0;32m   1090\u001b[0m \u001b[39mreturn\u001b[39;00m \u001b[39mself\u001b[39m\u001b[39m.\u001b[39mindex\u001b[39m.\u001b[39m_get_values_for_loc(\u001b[39mself\u001b[39m, loc, label)\n",
      "File \u001b[1;32mc:\\Users\\Shreyash\\AppData\\Local\\Programs\\Python\\Python310\\lib\\site-packages\\pandas\\core\\indexes\\range.py:388\u001b[0m, in \u001b[0;36mRangeIndex.get_loc\u001b[1;34m(self, key, method, tolerance)\u001b[0m\n\u001b[0;32m    385\u001b[0m \u001b[39m@doc\u001b[39m(Int64Index\u001b[39m.\u001b[39mget_loc)\n\u001b[0;32m    386\u001b[0m \u001b[39mdef\u001b[39;00m \u001b[39mget_loc\u001b[39m(\u001b[39mself\u001b[39m, key, method\u001b[39m=\u001b[39m\u001b[39mNone\u001b[39;00m, tolerance\u001b[39m=\u001b[39m\u001b[39mNone\u001b[39;00m):\n\u001b[0;32m    387\u001b[0m     \u001b[39mif\u001b[39;00m method \u001b[39mis\u001b[39;00m \u001b[39mNone\u001b[39;00m \u001b[39mand\u001b[39;00m tolerance \u001b[39mis\u001b[39;00m \u001b[39mNone\u001b[39;00m:\n\u001b[1;32m--> 388\u001b[0m         \u001b[39mif\u001b[39;00m is_integer(key) \u001b[39mor\u001b[39;00m (is_float(key) \u001b[39mand\u001b[39;00m key\u001b[39m.\u001b[39mis_integer()):\n\u001b[0;32m    389\u001b[0m             new_key \u001b[39m=\u001b[39m \u001b[39mint\u001b[39m(key)\n\u001b[0;32m    390\u001b[0m             \u001b[39mtry\u001b[39;00m:\n",
      "\u001b[1;31mKeyboardInterrupt\u001b[0m: "
     ]
    }
   ],
   "source": [
    "w, b, J_history, p_history = gradient_descent(area, price, 0, 0, 0.003, 9000, compute_cost, compute_gradient)"
   ]
  },
  {
   "cell_type": "code",
   "execution_count": null,
   "metadata": {},
   "outputs": [
    {
     "data": {
      "text/plain": [
       "(0.5187770090477928, 0.19465052980221892)"
      ]
     },
     "execution_count": 184,
     "metadata": {},
     "output_type": "execute_result"
    }
   ],
   "source": [
    "w, b"
   ]
  },
  {
   "cell_type": "code",
   "execution_count": null,
   "metadata": {},
   "outputs": [
    {
     "data": {
      "text/plain": [
       "[<matplotlib.lines.Line2D at 0x1df760f12a0>]"
      ]
     },
     "execution_count": 185,
     "metadata": {},
     "output_type": "execute_result"
    },
    {
     "data": {
      "image/png": "[encoded data removed]",
      "text/plain": [
       "<Figure size 2000x2000 with 2 Axes>"
      ]
     },
     "metadata": {
      "needs_background": "light"
     },
     "output_type": "display_data"
    }
   ],
   "source": [
    "fig, axes = plt.subplots(ncols = 2, nrows = 1, figsize = (20, 20), dpi = 100)\n",
    "axes1 = axes[0]\n",
    "axes2 = axes[1]\n",
    "axes1.scatter(area, price)\n",
    "axes1.plot(area, w * area + b, color = 'red')\n",
    "axes1.set_xlabel(\"Area of the House\")\n",
    "axes1.set_ylabel(\"Price of the House\")\n",
    "axes1.set_title('Area v/s Price')\n",
    "\n",
    "axes2.plot(np.arange(0, len(J_history)), J_history)\n",
    "\n",
    "# fig.subplots_adjust(hspace = 5, wspace = 10)\n"
   ]
  },
  {
   "cell_type": "code",
   "execution_count": null,
   "metadata": {},
   "outputs": [
    {
     "data": {
      "text/plain": [
       "0.40216133342133603"
      ]
     },
     "execution_count": 186,
     "metadata": {},
     "output_type": "execute_result"
    }
   ],
   "source": [
    "w * 0.4 + b"
   ]
  },
  {
   "attachments": {},
   "cell_type": "markdown",
   "metadata": {},
   "source": [
    "### Multiple Linear Regression"
   ]
  },
  {
   "attachments": {},
   "cell_type": "markdown",
   "metadata": {},
   "source": [
    "### Cost function for multiple Linear Regression"
   ]
  },
  {
   "cell_type": "code",
   "execution_count": 80,
   "metadata": {},
   "outputs": [
    {
     "data": {
      "text/plain": [
       "numpy.longdouble"
      ]
     },
     "execution_count": 80,
     "metadata": {},
     "output_type": "execute_result"
    }
   ],
   "source": [
    "np.longdouble"
   ]
  },
  {
   "cell_type": "code",
   "execution_count": 86,
   "metadata": {},
   "outputs": [],
   "source": [
    "def mcompute_cost(X, y, w, b):\n",
    "    cost = 0\n",
    "    m, n = X.shape\n",
    "    for i in range(m):\n",
    "        f_wb_i = np.dot(X.iloc[i], w) + b\n",
    "        cost_function = np.longdouble(f_wb_i - y.iloc[i]) ** 2\n",
    "        cost += cost_function\n",
    "    return cost / (2 * m)\n"
   ]
  },
  {
   "attachments": {},
   "cell_type": "markdown",
   "metadata": {},
   "source": [
    "### Compute Gradient Descent with Multiple Variables"
   ]
  },
  {
   "cell_type": "code",
   "execution_count": 87,
   "metadata": {},
   "outputs": [],
   "source": [
    "def mcompute_gradient(X, y, w, b):\n",
    "    m, n = X.shape\n",
    "    dj_dw = np.zeros(n, dtype = 'double')\n",
    "    dj_db = 0\n",
    "    for i in range(m):\n",
    "        err = np.dot(X.iloc[i], w) + b - y.iloc[i]\n",
    "        for j in range(n):\n",
    "            dj_dw[j] = np.longdouble((dj_dw[j] + err) * X.iloc[i][j])\n",
    "        dj_db = np.longdouble(dj_db + err)\n",
    "    dj_dw = dj_dw / m\n",
    "    dj_db = dj_db / m\n",
    "    return dj_dw, dj_db"
   ]
  },
  {
   "attachments": {},
   "cell_type": "markdown",
   "metadata": {},
   "source": [
    "### Gradient Descent of multiple variables for finding optimal w and b"
   ]
  },
  {
   "cell_type": "code",
   "execution_count": 88,
   "metadata": {},
   "outputs": [],
   "source": [
    "def mgradient_descent(X, y, w_in, b_in, cost_function, gradient_function, alpha, num_iters):\n",
    "    J_history = []\n",
    "    w = copy.deepcopy(w_in)\n",
    "    b = b_in\n",
    "    for i in range(num_iters):\n",
    "        dj_dw, dj_db = gradient_function(X, y, w, b)\n",
    "        w = w - (alpha * dj_dw)\n",
    "        b = b - (alpha * dj_db)\n",
    "        if i < 100000:\n",
    "            J_history.append(cost_function(X, y, w, b))\n",
    "        if i % math.ceil(num_iters / 10) == 0:\n",
    "            print(f\"Iteration {i:4d}: Cost {J_history[-1]:8.2f}   \")\n",
    "    return w, b, J_history\n",
    "\n"
   ]
  },
  {
   "attachments": {},
   "cell_type": "markdown",
   "metadata": {},
   "source": [
    "### Testing Multiple Linear Regression"
   ]
  },
  {
   "cell_type": "code",
   "execution_count": null,
   "metadata": {},
   "outputs": [
    {
     "data": {
      "text/html": [
       "<div>\n",
       "<style scoped>\n",
       "    .dataframe tbody tr th:only-of-type {\n",
       "        vertical-align: middle;\n",
       "    }\n",
       "\n",
       "    .dataframe tbody tr th {\n",
       "        vertical-align: top;\n",
       "    }\n",
       "\n",
       "    .dataframe thead th {\n",
       "        text-align: right;\n",
       "    }\n",
       "</style>\n",
       "<table border=\"1\" class=\"dataframe\">\n",
       "  <thead>\n",
       "    <tr style=\"text-align: right;\">\n",
       "      <th></th>\n",
       "      <th>price</th>\n",
       "      <th>area</th>\n",
       "      <th>bedrooms</th>\n",
       "      <th>bathrooms</th>\n",
       "      <th>stories</th>\n",
       "      <th>mainroad</th>\n",
       "      <th>guestroom</th>\n",
       "      <th>basement</th>\n",
       "      <th>hotwaterheating</th>\n",
       "      <th>airconditioning</th>\n",
       "      <th>parking</th>\n",
       "      <th>prefarea</th>\n",
       "      <th>furnishingstatus</th>\n",
       "    </tr>\n",
       "  </thead>\n",
       "  <tbody>\n",
       "    <tr>\n",
       "      <th>0</th>\n",
       "      <td>13300000</td>\n",
       "      <td>7420</td>\n",
       "      <td>4</td>\n",
       "      <td>2</td>\n",
       "      <td>3</td>\n",
       "      <td>yes</td>\n",
       "      <td>no</td>\n",
       "      <td>no</td>\n",
       "      <td>no</td>\n",
       "      <td>yes</td>\n",
       "      <td>2</td>\n",
       "      <td>yes</td>\n",
       "      <td>furnished</td>\n",
       "    </tr>\n",
       "    <tr>\n",
       "      <th>1</th>\n",
       "      <td>12250000</td>\n",
       "      <td>8960</td>\n",
       "      <td>4</td>\n",
       "      <td>4</td>\n",
       "      <td>4</td>\n",
       "      <td>yes</td>\n",
       "      <td>no</td>\n",
       "      <td>no</td>\n",
       "      <td>no</td>\n",
       "      <td>yes</td>\n",
       "      <td>3</td>\n",
       "      <td>no</td>\n",
       "      <td>furnished</td>\n",
       "    </tr>\n",
       "    <tr>\n",
       "      <th>2</th>\n",
       "      <td>12250000</td>\n",
       "      <td>9960</td>\n",
       "      <td>3</td>\n",
       "      <td>2</td>\n",
       "      <td>2</td>\n",
       "      <td>yes</td>\n",
       "      <td>no</td>\n",
       "      <td>yes</td>\n",
       "      <td>no</td>\n",
       "      <td>no</td>\n",
       "      <td>2</td>\n",
       "      <td>yes</td>\n",
       "      <td>semi-furnished</td>\n",
       "    </tr>\n",
       "    <tr>\n",
       "      <th>3</th>\n",
       "      <td>12215000</td>\n",
       "      <td>7500</td>\n",
       "      <td>4</td>\n",
       "      <td>2</td>\n",
       "      <td>2</td>\n",
       "      <td>yes</td>\n",
       "      <td>no</td>\n",
       "      <td>yes</td>\n",
       "      <td>no</td>\n",
       "      <td>yes</td>\n",
       "      <td>3</td>\n",
       "      <td>yes</td>\n",
       "      <td>furnished</td>\n",
       "    </tr>\n",
       "    <tr>\n",
       "      <th>4</th>\n",
       "      <td>11410000</td>\n",
       "      <td>7420</td>\n",
       "      <td>4</td>\n",
       "      <td>1</td>\n",
       "      <td>2</td>\n",
       "      <td>yes</td>\n",
       "      <td>yes</td>\n",
       "      <td>yes</td>\n",
       "      <td>no</td>\n",
       "      <td>yes</td>\n",
       "      <td>2</td>\n",
       "      <td>no</td>\n",
       "      <td>furnished</td>\n",
       "    </tr>\n",
       "  </tbody>\n",
       "</table>\n",
       "</div>"
      ],
      "text/plain": [
       "      price  area  bedrooms  bathrooms  stories mainroad guestroom basement  \\\n",
       "0  13300000  7420         4          2        3      yes        no       no   \n",
       "1  12250000  8960         4          4        4      yes        no       no   \n",
       "2  12250000  9960         3          2        2      yes        no      yes   \n",
       "3  12215000  7500         4          2        2      yes        no      yes   \n",
       "4  11410000  7420         4          1        2      yes       yes      yes   \n",
       "\n",
       "  hotwaterheating airconditioning  parking prefarea furnishingstatus  \n",
       "0              no             yes        2      yes        furnished  \n",
       "1              no             yes        3       no        furnished  \n",
       "2              no              no        2      yes   semi-furnished  \n",
       "3              no             yes        3      yes        furnished  \n",
       "4              no             yes        2       no        furnished  "
      ]
     },
     "execution_count": 191,
     "metadata": {},
     "output_type": "execute_result"
    }
   ],
   "source": [
    "df.head()"
   ]
  },
  {
   "attachments": {},
   "cell_type": "markdown",
   "metadata": {},
   "source": [
    "### Scaling the Features between 0 and 1"
   ]
  },
  {
   "cell_type": "code",
   "execution_count": null,
   "metadata": {},
   "outputs": [],
   "source": [
    "area = df['area'] / df['area'].max()\n",
    "bedrooms = df['bedrooms'] / df['bedrooms'].max()\n",
    "stories = df['stories']  / df['stories'].max()\n",
    "\n",
    "X = pd.concat([area, bedrooms, stories], axis = 1)\n",
    "y = df['price']\n"
   ]
  },
  {
   "cell_type": "code",
   "execution_count": null,
   "metadata": {},
   "outputs": [],
   "source": [
    "m, n = X.shape"
   ]
  },
  {
   "cell_type": "code",
   "execution_count": null,
   "metadata": {},
   "outputs": [
    {
     "data": {
      "text/plain": [
       "545"
      ]
     },
     "execution_count": 194,
     "metadata": {},
     "output_type": "execute_result"
    }
   ],
   "source": [
    "m"
   ]
  },
  {
   "cell_type": "code",
   "execution_count": null,
   "metadata": {},
   "outputs": [
    {
     "name": "stdout",
     "output_type": "stream",
     "text": [
      "Iteration    0: Cost 12880701086966.14   \n",
      "Iteration  100: Cost 3238323507907.94   \n",
      "Iteration  200: Cost 1948038298848.21   \n",
      "Iteration  300: Cost 1775517441892.45   \n",
      "Iteration  400: Cost 1753102681713.54   \n",
      "Iteration  500: Cost 1751034598387.87   \n",
      "Iteration  600: Cost 1751793871445.24   \n",
      "Iteration  700: Cost 1752971801983.59   \n",
      "Iteration  800: Cost 1754221547454.46   \n",
      "Iteration  900: Cost 1755487597892.93   \n"
     ]
    }
   ],
   "source": [
    "w_in = np.zeros(3)\n",
    "b_in = 0\n",
    "alpha = 0.01\n",
    "w, b, J_history = mgradient_descent(X, y, w_in, b_in, mcompute_cost, mcompute_gradient, alpha, 1000)"
   ]
  },
  {
   "cell_type": "code",
   "execution_count": null,
   "metadata": {},
   "outputs": [
    {
     "data": {
      "text/plain": [
       "(array([-13574.7728869 , -41723.16352197, -31035.08886227]), 4800843.901180688)"
      ]
     },
     "execution_count": 196,
     "metadata": {},
     "output_type": "execute_result"
    }
   ],
   "source": [
    "w, b"
   ]
  },
  {
   "cell_type": "code",
   "execution_count": null,
   "metadata": {},
   "outputs": [
    {
     "data": {
      "text/plain": [
       "Text(0, 0.5, 'J(w)')"
      ]
     },
     "execution_count": 197,
     "metadata": {},
     "output_type": "execute_result"
    },
    {
     "data": {
      "image/png": "[encoded data removed]",
      "text/plain": [
       "<Figure size 2000x2000 with 2 Axes>"
      ]
     },
     "metadata": {
      "needs_background": "light"
     },
     "output_type": "display_data"
    }
   ],
   "source": [
    "fig, axes = plt.subplots(nrows = 1, ncols = 2, figsize = (10, 10), dpi = 200)\n",
    "#axes[0].plot(X, w[0] * X['area'] + w[1] * X['bedrooms'] + w[2] * X['stories'] + b)\n",
    "axes[0].plot(np.arange(0, len(J_history)), J_history)\n",
    "axes[0].set_title('J(w) v/s iterations')\n",
    "axes[0].set_xlabel('iterations')\n",
    "axes[0].set_ylabel('J(w)')\n",
    "\n"
   ]
  },
  {
   "attachments": {},
   "cell_type": "markdown",
   "metadata": {},
   "source": [
    "## Logistic Regression"
   ]
  },
  {
   "attachments": {},
   "cell_type": "markdown",
   "metadata": {},
   "source": [
    "- Compute cost Function for Logistic Regression"
   ]
  },
  {
   "cell_type": "code",
   "execution_count": 54,
   "metadata": {},
   "outputs": [],
   "source": [
    "def sigmoid(z):\n",
    "    g = 1 / (1 + np.exp(-z))\n",
    "    return g"
   ]
  },
  {
   "cell_type": "code",
   "execution_count": 64,
   "metadata": {},
   "outputs": [
    {
     "data": {
      "text/plain": [
       "0.9820137900379085"
      ]
     },
     "execution_count": 64,
     "metadata": {},
     "output_type": "execute_result"
    }
   ],
   "source": [
    "sigmoid(np.dot(np.arange(0, 2) , np.arange(0, 2)) + 3)"
   ]
  },
  {
   "cell_type": "code",
   "execution_count": 148,
   "metadata": {},
   "outputs": [],
   "source": [
    "def lcompute_cost(X, y, w, b):\n",
    "    m, n = X.shape\n",
    "    cost = 0\n",
    "    for i in range(m):\n",
    "        f_x = sigmoid(np.dot(X.iloc[i], w) + b)\n",
    "        cost += -1 * y.iloc[i] * np.log(f_x) - (1 - y.iloc[i]) * np.log(1 - f_x)\n",
    "    cost = cost / m\n",
    "    return cost\n"
   ]
  },
  {
   "cell_type": "code",
   "execution_count": 143,
   "metadata": {},
   "outputs": [],
   "source": [
    "def lcompute_gradient(X, y, w, b):\n",
    "    m, n = X.shape\n",
    "    dj_dw = np.zeros(n)\n",
    "    dj_db = 0\n",
    "    for i in range(m):\n",
    "        err = sigmoid(np.dot(X.iloc[i], w) + b) \n",
    "        err = err - y.iloc[i]\n",
    "        for j in range(n):\n",
    "            dj_dw[j] = dj_dw[j] + err * X.iloc[i][j]\n",
    "        dj_db = dj_db + err\n",
    "    dj_dw = dj_dw / m\n",
    "    dj_db = dj_db / m\n",
    "    return dj_dw, dj_db\n",
    "    \n"
   ]
  },
  {
   "cell_type": "code",
   "execution_count": 144,
   "metadata": {},
   "outputs": [],
   "source": [
    "def lgradient_descent(X, y, w_in, b_in, alpha, num_iters):\n",
    "    J_history = []\n",
    "    w = copy.deepcopy(w_in)\n",
    "    b = b_in\n",
    "    for i in range(num_iters):\n",
    "        dj_dw, dj_db = lcompute_gradient(X, y, w, b)\n",
    "        w = w - alpha * dj_dw\n",
    "        b = b - alpha * dj_db\n",
    "        if i < 100000:\n",
    "            J_history.append(lcompute_cost(X, y, w, b))\n",
    "        if i % math.ceil(num_iters / 10) == 0:\n",
    "            print(f\"Iteration {i:4d}: Cost {J_history[-1]}\")\n",
    "    return w, b, J_history"
   ]
  },
  {
   "cell_type": "code",
   "execution_count": 120,
   "metadata": {},
   "outputs": [],
   "source": [
    "df1 = pd.read_csv('gender_submission.csv')"
   ]
  },
  {
   "cell_type": "code",
   "execution_count": 121,
   "metadata": {},
   "outputs": [
    {
     "data": {
      "text/html": [
       "<div>\n",
       "<style scoped>\n",
       "    .dataframe tbody tr th:only-of-type {\n",
       "        vertical-align: middle;\n",
       "    }\n",
       "\n",
       "    .dataframe tbody tr th {\n",
       "        vertical-align: top;\n",
       "    }\n",
       "\n",
       "    .dataframe thead th {\n",
       "        text-align: right;\n",
       "    }\n",
       "</style>\n",
       "<table border=\"1\" class=\"dataframe\">\n",
       "  <thead>\n",
       "    <tr style=\"text-align: right;\">\n",
       "      <th></th>\n",
       "      <th>PassengerId</th>\n",
       "      <th>Survived</th>\n",
       "    </tr>\n",
       "  </thead>\n",
       "  <tbody>\n",
       "    <tr>\n",
       "      <th>0</th>\n",
       "      <td>892</td>\n",
       "      <td>0</td>\n",
       "    </tr>\n",
       "    <tr>\n",
       "      <th>1</th>\n",
       "      <td>893</td>\n",
       "      <td>1</td>\n",
       "    </tr>\n",
       "    <tr>\n",
       "      <th>2</th>\n",
       "      <td>894</td>\n",
       "      <td>0</td>\n",
       "    </tr>\n",
       "    <tr>\n",
       "      <th>3</th>\n",
       "      <td>895</td>\n",
       "      <td>0</td>\n",
       "    </tr>\n",
       "    <tr>\n",
       "      <th>4</th>\n",
       "      <td>896</td>\n",
       "      <td>1</td>\n",
       "    </tr>\n",
       "  </tbody>\n",
       "</table>\n",
       "</div>"
      ],
      "text/plain": [
       "   PassengerId  Survived\n",
       "0          892         0\n",
       "1          893         1\n",
       "2          894         0\n",
       "3          895         0\n",
       "4          896         1"
      ]
     },
     "execution_count": 121,
     "metadata": {},
     "output_type": "execute_result"
    }
   ],
   "source": [
    "df1.head()"
   ]
  },
  {
   "cell_type": "code",
   "execution_count": 117,
   "metadata": {},
   "outputs": [],
   "source": [
    "df2 = pd.read_csv('test.csv')"
   ]
  },
  {
   "cell_type": "code",
   "execution_count": 20,
   "metadata": {},
   "outputs": [
    {
     "data": {
      "text/html": [
       "<div>\n",
       "<style scoped>\n",
       "    .dataframe tbody tr th:only-of-type {\n",
       "        vertical-align: middle;\n",
       "    }\n",
       "\n",
       "    .dataframe tbody tr th {\n",
       "        vertical-align: top;\n",
       "    }\n",
       "\n",
       "    .dataframe thead th {\n",
       "        text-align: right;\n",
       "    }\n",
       "</style>\n",
       "<table border=\"1\" class=\"dataframe\">\n",
       "  <thead>\n",
       "    <tr style=\"text-align: right;\">\n",
       "      <th></th>\n",
       "      <th>PassengerId</th>\n",
       "      <th>Pclass</th>\n",
       "      <th>Name</th>\n",
       "      <th>Sex</th>\n",
       "      <th>Age</th>\n",
       "      <th>SibSp</th>\n",
       "      <th>Parch</th>\n",
       "      <th>Ticket</th>\n",
       "      <th>Fare</th>\n",
       "      <th>Cabin</th>\n",
       "      <th>Embarked</th>\n",
       "    </tr>\n",
       "  </thead>\n",
       "  <tbody>\n",
       "    <tr>\n",
       "      <th>0</th>\n",
       "      <td>892</td>\n",
       "      <td>3</td>\n",
       "      <td>Kelly, Mr. James</td>\n",
       "      <td>male</td>\n",
       "      <td>34.5</td>\n",
       "      <td>0</td>\n",
       "      <td>0</td>\n",
       "      <td>330911</td>\n",
       "      <td>7.8292</td>\n",
       "      <td>NaN</td>\n",
       "      <td>Q</td>\n",
       "    </tr>\n",
       "    <tr>\n",
       "      <th>1</th>\n",
       "      <td>893</td>\n",
       "      <td>3</td>\n",
       "      <td>Wilkes, Mrs. James (Ellen Needs)</td>\n",
       "      <td>female</td>\n",
       "      <td>47.0</td>\n",
       "      <td>1</td>\n",
       "      <td>0</td>\n",
       "      <td>363272</td>\n",
       "      <td>7.0000</td>\n",
       "      <td>NaN</td>\n",
       "      <td>S</td>\n",
       "    </tr>\n",
       "    <tr>\n",
       "      <th>2</th>\n",
       "      <td>894</td>\n",
       "      <td>2</td>\n",
       "      <td>Myles, Mr. Thomas Francis</td>\n",
       "      <td>male</td>\n",
       "      <td>62.0</td>\n",
       "      <td>0</td>\n",
       "      <td>0</td>\n",
       "      <td>240276</td>\n",
       "      <td>9.6875</td>\n",
       "      <td>NaN</td>\n",
       "      <td>Q</td>\n",
       "    </tr>\n",
       "    <tr>\n",
       "      <th>3</th>\n",
       "      <td>895</td>\n",
       "      <td>3</td>\n",
       "      <td>Wirz, Mr. Albert</td>\n",
       "      <td>male</td>\n",
       "      <td>27.0</td>\n",
       "      <td>0</td>\n",
       "      <td>0</td>\n",
       "      <td>315154</td>\n",
       "      <td>8.6625</td>\n",
       "      <td>NaN</td>\n",
       "      <td>S</td>\n",
       "    </tr>\n",
       "    <tr>\n",
       "      <th>4</th>\n",
       "      <td>896</td>\n",
       "      <td>3</td>\n",
       "      <td>Hirvonen, Mrs. Alexander (Helga E Lindqvist)</td>\n",
       "      <td>female</td>\n",
       "      <td>22.0</td>\n",
       "      <td>1</td>\n",
       "      <td>1</td>\n",
       "      <td>3101298</td>\n",
       "      <td>12.2875</td>\n",
       "      <td>NaN</td>\n",
       "      <td>S</td>\n",
       "    </tr>\n",
       "  </tbody>\n",
       "</table>\n",
       "</div>"
      ],
      "text/plain": [
       "   PassengerId  Pclass                                          Name     Sex  \\\n",
       "0          892       3                              Kelly, Mr. James    male   \n",
       "1          893       3              Wilkes, Mrs. James (Ellen Needs)  female   \n",
       "2          894       2                     Myles, Mr. Thomas Francis    male   \n",
       "3          895       3                              Wirz, Mr. Albert    male   \n",
       "4          896       3  Hirvonen, Mrs. Alexander (Helga E Lindqvist)  female   \n",
       "\n",
       "    Age  SibSp  Parch   Ticket     Fare Cabin Embarked  \n",
       "0  34.5      0      0   330911   7.8292   NaN        Q  \n",
       "1  47.0      1      0   363272   7.0000   NaN        S  \n",
       "2  62.0      0      0   240276   9.6875   NaN        Q  \n",
       "3  27.0      0      0   315154   8.6625   NaN        S  \n",
       "4  22.0      1      1  3101298  12.2875   NaN        S  "
      ]
     },
     "execution_count": 20,
     "metadata": {},
     "output_type": "execute_result"
    }
   ],
   "source": [
    "df2.head()"
   ]
  },
  {
   "cell_type": "code",
   "execution_count": 119,
   "metadata": {},
   "outputs": [],
   "source": [
    "test = df2[['Age', 'Ticket']]"
   ]
  },
  {
   "cell_type": "code",
   "execution_count": 123,
   "metadata": {},
   "outputs": [],
   "source": [
    "test = pd.concat([test, df1['Survived']], axis = 1)"
   ]
  },
  {
   "cell_type": "code",
   "execution_count": 126,
   "metadata": {},
   "outputs": [],
   "source": [
    "test = test.dropna()"
   ]
  },
  {
   "cell_type": "code",
   "execution_count": 130,
   "metadata": {},
   "outputs": [],
   "source": [
    "test = test[test['Ticket'].str.isnumeric()]"
   ]
  },
  {
   "cell_type": "code",
   "execution_count": 131,
   "metadata": {},
   "outputs": [],
   "source": [
    "test['Ticket'] = test['Ticket'].apply(lambda x : float(x))"
   ]
  },
  {
   "cell_type": "code",
   "execution_count": 132,
   "metadata": {},
   "outputs": [
    {
     "data": {
      "text/plain": [
       "0       330911.0\n",
       "1       363272.0\n",
       "2       240276.0\n",
       "3       315154.0\n",
       "4      3101298.0\n",
       "         ...    \n",
       "404      17765.0\n",
       "406      28666.0\n",
       "407     113503.0\n",
       "411      19928.0\n",
       "412     347086.0\n",
       "Name: Ticket, Length: 232, dtype: float64"
      ]
     },
     "execution_count": 132,
     "metadata": {},
     "output_type": "execute_result"
    }
   ],
   "source": [
    "test['Ticket']"
   ]
  },
  {
   "cell_type": "code",
   "execution_count": 133,
   "metadata": {},
   "outputs": [],
   "source": [
    "test['Ticket'] = test['Ticket'] / test['Ticket'].max()"
   ]
  },
  {
   "cell_type": "code",
   "execution_count": 134,
   "metadata": {},
   "outputs": [],
   "source": [
    "test['Age'] = test['Age'] / test['Age'].max()"
   ]
  },
  {
   "cell_type": "code",
   "execution_count": 135,
   "metadata": {},
   "outputs": [],
   "source": [
    "X = test[['Ticket', 'Age']]"
   ]
  },
  {
   "cell_type": "code",
   "execution_count": 137,
   "metadata": {},
   "outputs": [],
   "source": [
    "y = test['Survived']"
   ]
  },
  {
   "cell_type": "code",
   "execution_count": 140,
   "metadata": {},
   "outputs": [
    {
     "data": {
      "text/plain": [
       "(232,\n",
       " Ticket    232\n",
       " Age       232\n",
       " dtype: int64)"
      ]
     },
     "execution_count": 140,
     "metadata": {},
     "output_type": "execute_result"
    }
   ],
   "source": [
    "y.count(), X.count()"
   ]
  },
  {
   "cell_type": "code",
   "execution_count": 147,
   "metadata": {},
   "outputs": [
    {
     "data": {
      "text/plain": [
       "0"
      ]
     },
     "execution_count": 147,
     "metadata": {},
     "output_type": "execute_result"
    }
   ],
   "source": [
    "y.iloc[9]"
   ]
  },
  {
   "cell_type": "code",
   "execution_count": 149,
   "metadata": {},
   "outputs": [
    {
     "name": "stdout",
     "output_type": "stream",
     "text": [
      "Iteration    0: Cost 0.6909738364957086\n",
      "Iteration  100: Cost 0.6548207467650546\n",
      "Iteration  200: Cost 0.6545042715468415\n",
      "Iteration  300: Cost 0.6543308864727755\n",
      "Iteration  400: Cost 0.6541705501107536\n",
      "Iteration  500: Cost 0.6540218828205759\n",
      "Iteration  600: Cost 0.653884087761898\n",
      "Iteration  700: Cost 0.6537564144841549\n",
      "Iteration  800: Cost 0.653638155958621\n",
      "Iteration  900: Cost 0.6535286475208453\n"
     ]
    }
   ],
   "source": [
    "w = np.zeros(2)\n",
    "w, b, J_history = lgradient_descent(X['Age'], y, w, 0, 0.1, 1000)"
   ]
  },
  {
   "cell_type": "code",
   "execution_count": 159,
   "metadata": {},
   "outputs": [
    {
     "data": {
      "text/plain": [
       "[0.6909738364957086,\n",
       " 0.6889253500518592,\n",
       " 0.6869945232997724,\n",
       " 0.6851745617589673,\n",
       " 0.6834590542460054,\n",
       " 0.6818419533354672,\n",
       " 0.6803175564776076,\n",
       " 0.6788804878046276,\n",
       " 0.6775256806467044,\n",
       " 0.6762483607696627,\n",
       " 0.6750440303384323,\n",
       " 0.6739084526039091,\n",
       " 0.6728376373054814,\n",
       " 0.6718278267770895,\n",
       " 0.6708754827411496,\n",
       " 0.6699772737719027,\n",
       " 0.6691300634075951,\n",
       " 0.6683308988893064,\n",
       " 0.6675770005031102,\n",
       " 0.6668657515015411,\n",
       " 0.6661946885799072,\n",
       " 0.6655614928829124,\n",
       " 0.6649639815171079,\n",
       " 0.6644000995450503,\n",
       " 0.6638679124374147,\n",
       " 0.6633655989599432,\n",
       " 0.662891444472721,\n",
       " 0.6624438346200187,\n",
       " 0.662021249389715,\n",
       " 0.6616222575221237,\n",
       " 0.6612455112488836,\n",
       " 0.6608897413434256,\n",
       " 0.6605537524653491,\n",
       " 0.660236418781911,\n",
       " 0.6599366798506362,\n",
       " 0.6596535367478684,\n",
       " 0.6593860484288695,\n",
       " 0.6591333283058486,\n",
       " 0.6588945410310068,\n",
       " 0.6586688994724355,\n",
       " 0.6584556618713402,\n",
       " 0.6582541291697505,\n",
       " 0.6580636424984644,\n",
       " 0.6578835808155903,\n",
       " 0.6577133586866002,\n",
       " 0.6575524241973403,\n",
       " 0.6574002569919523,\n",
       " 0.6572563664281419,\n",
       " 0.6571202898426812,\n",
       " 0.656991590920444,\n",
       " 0.6568698581607082,\n",
       " 0.656754703434815,\n",
       " 0.6566457606296312,\n",
       " 0.6565426843716213,\n",
       " 0.6564451488266355,\n",
       " 0.6563528465708169,\n",
       " 0.6562654875283312,\n",
       " 0.6561827979718603,\n",
       " 0.6561045195820795,\n",
       " 0.6560304085625375,\n",
       " 0.6559602348066085,\n",
       " 0.6558937811133742,\n",
       " 0.6558308424494834,\n",
       " 0.655771225254238,\n",
       " 0.6557147467852872,\n",
       " 0.6556612345025308,\n",
       " 0.6556105254879017,\n",
       " 0.655562465898916,\n",
       " 0.6555169104539642,\n",
       " 0.6554737219474438,\n",
       " 0.6554327707929701,\n",
       " 0.6553939345929941,\n",
       " 0.6553570977332557,\n",
       " 0.6553221510006114,\n",
       " 0.6552889912228469,\n",
       " 0.6552575209291858,\n",
       " 0.6552276480302666,\n",
       " 0.6551992855164477,\n",
       " 0.6551723511733695,\n",
       " 0.6551467673137534,\n",
       " 0.6551224605244962,\n",
       " 0.6550993614281574,\n",
       " 0.6550774044580155,\n",
       " 0.6550565276458826,\n",
       " 0.6550366724219597,\n",
       " 0.6550177834260127,\n",
       " 0.6549998083292333,\n",
       " 0.654982697666148,\n",
       " 0.654966404676012,\n",
       " 0.6549508851531316,\n",
       " 0.654936097305605,\n",
       " 0.6549220016219965,\n",
       " 0.6549085607454938,\n",
       " 0.6548957393551108,\n",
       " 0.6548835040535433,\n",
       " 0.6548718232612913,\n",
       " 0.6548606671166951,\n",
       " 0.654850007381544,\n",
       " 0.6548398173519436,\n",
       " 0.6548300717741454,\n",
       " 0.6548207467650546,\n",
       " 0.6548118197371506,\n",
       " 0.6548032693275716,\n",
       " 0.6547950753311335,\n",
       " 0.654787218637056,\n",
       " 0.6547796811691817,\n",
       " 0.6547724458295098,\n",
       " 0.6547654964448338,\n",
       " 0.6547588177163377,\n",
       " 0.6547523951719568,\n",
       " 0.6547462151213647,\n",
       " 0.6547402646134429,\n",
       " 0.65473453139608,\n",
       " 0.6547290038781823,\n",
       " 0.654723671093771,\n",
       " 0.6547185226680425,\n",
       " 0.6547135487852956,\n",
       " 0.6547087401586085,\n",
       " 0.6547040880011757,\n",
       " 0.6546995839992176,\n",
       " 0.6546952202863641,\n",
       " 0.6546909894194374,\n",
       " 0.6546868843555581,\n",
       " 0.6546828984304998,\n",
       " 0.6546790253382232,\n",
       " 0.6546752591115176,\n",
       " 0.6546715941037121,\n",
       " 0.6546680249713621,\n",
       " 0.6546645466578918,\n",
       " 0.6546611543781169,\n",
       " 0.6546578436036146,\n",
       " 0.6546546100488805,\n",
       " 0.6546514496582385,\n",
       " 0.6546483585934648,\n",
       " 0.6546453332220786,\n",
       " 0.6546423701062644,\n",
       " 0.6546394659924011,\n",
       " 0.6546366178011499,\n",
       " 0.6546338226180862,\n",
       " 0.654631077684828,\n",
       " 0.6546283803906564,\n",
       " 0.6546257282645769,\n",
       " 0.6546231189678148,\n",
       " 0.6546205502867165,\n",
       " 0.6546180201260332,\n",
       " 0.6546155265025607,\n",
       " 0.6546130675391338,\n",
       " 0.654610641458935,\n",
       " 0.6546082465801103,\n",
       " 0.6546058813106803,\n",
       " 0.6546035441437226,\n",
       " 0.6546012336528119,\n",
       " 0.6545989484877028,\n",
       " 0.6545966873702567,\n",
       " 0.6545944490905735,\n",
       " 0.6545922325033378,\n",
       " 0.6545900365243634,\n",
       " 0.654587860127319,\n",
       " 0.6545857023406321,\n",
       " 0.6545835622445596,\n",
       " 0.6545814389684129,\n",
       " 0.6545793316879363,\n",
       " 0.6545772396228212,\n",
       " 0.6545751620343563,\n",
       " 0.6545730982232045,\n",
       " 0.6545710475272997,\n",
       " 0.6545690093198487,\n",
       " 0.6545669830074521,\n",
       " 0.6545649680283163,\n",
       " 0.654562963850566,\n",
       " 0.6545609699706482,\n",
       " 0.6545589859118123,\n",
       " 0.6545570112226881,\n",
       " 0.6545550454759215,\n",
       " 0.6545530882668993,\n",
       " 0.6545511392125314,\n",
       " 0.6545491979501008,\n",
       " 0.654547264136179,\n",
       " 0.6545453374455955,\n",
       " 0.6545434175704625,\n",
       " 0.6545415042192528,\n",
       " 0.6545395971159296,\n",
       " 0.6545376959991153,\n",
       " 0.6545358006213143,\n",
       " 0.6545339107481681,\n",
       " 0.6545320261577594,\n",
       " 0.6545301466399449,\n",
       " 0.6545282719957276,\n",
       " 0.654526402036665,\n",
       " 0.6545245365843023,\n",
       " 0.6545226754696466,\n",
       " 0.6545208185326545,\n",
       " 0.6545189656217604,\n",
       " 0.6545171165934229,\n",
       " 0.6545152713116972,\n",
       " 0.6545134296478302,\n",
       " 0.6545115914798781,\n",
       " 0.6545097566923415,\n",
       " 0.6545079251758242,\n",
       " 0.6545060968267077,\n",
       " 0.6545042715468415,\n",
       " 0.6545024492432543,\n",
       " 0.6545006298278753,\n",
       " 0.6544988132172779,\n",
       " 0.6544969993324256,\n",
       " 0.6544951880984441,\n",
       " 0.6544933794443974,\n",
       " 0.6544915733030763,\n",
       " 0.6544897696108032,\n",
       " 0.654487968307243,\n",
       " 0.6544861693352205,\n",
       " 0.6544843726405621,\n",
       " 0.6544825781719262,\n",
       " 0.6544807858806578,\n",
       " 0.6544789957206443,\n",
       " 0.654477207648178,\n",
       " 0.6544754216218319,\n",
       " 0.6544736376023358,\n",
       " 0.6544718555524622,\n",
       " 0.6544700754369157,\n",
       " 0.6544682972222351,\n",
       " 0.6544665208766902,\n",
       " 0.6544647463701939,\n",
       " 0.6544629736742096,\n",
       " 0.6544612027616757,\n",
       " 0.6544594336069217,\n",
       " 0.6544576661855959,\n",
       " 0.6544559004745956,\n",
       " 0.6544541364520002,\n",
       " 0.6544523740970083,\n",
       " 0.6544506133898779,\n",
       " 0.6544488543118725,\n",
       " 0.6544470968452013,\n",
       " 0.6544453409729776,\n",
       " 0.6544435866791626,\n",
       " 0.654441833948527,\n",
       " 0.6544400827666029,\n",
       " 0.6544383331196466,\n",
       " 0.6544365849945964,\n",
       " 0.6544348383790414,\n",
       " 0.6544330932611818,\n",
       " 0.6544313496298014,\n",
       " 0.6544296074742317,\n",
       " 0.6544278667843267,\n",
       " 0.6544261275504311,\n",
       " 0.6544243897633603,\n",
       " 0.6544226534143681,\n",
       " 0.6544209184951285,\n",
       " 0.6544191849977122,\n",
       " 0.6544174529145638,\n",
       " 0.654415722238484,\n",
       " 0.6544139929626114,\n",
       " 0.6544122650804006,\n",
       " 0.6544105385856092,\n",
       " 0.6544088134722809,\n",
       " 0.654407089734728,\n",
       " 0.6544053673675208,\n",
       " 0.6544036463654705,\n",
       " 0.6544019267236206,\n",
       " 0.654400208437228,\n",
       " 0.6543984915017593,\n",
       " 0.6543967759128733,\n",
       " 0.6543950616664137,\n",
       " 0.6543933487584019,\n",
       " 0.6543916371850204,\n",
       " 0.6543899269426128,\n",
       " 0.6543882180276676,\n",
       " 0.6543865104368153,\n",
       " 0.654384804166819,\n",
       " 0.6543830992145708,\n",
       " 0.6543813955770754,\n",
       " 0.6543796932514593,\n",
       " 0.6543779922349486,\n",
       " 0.6543762925248751,\n",
       " 0.6543745941186638,\n",
       " 0.6543728970138332,\n",
       " 0.6543712012079849,\n",
       " 0.6543695066988071,\n",
       " 0.6543678134840593,\n",
       " 0.6543661215615775,\n",
       " 0.6543644309292671,\n",
       " 0.654362741585097,\n",
       " 0.6543610535271,\n",
       " 0.6543593667533677,\n",
       " 0.6543576812620472,\n",
       " 0.6543559970513371,\n",
       " 0.6543543141194887,\n",
       " 0.654352632464799,\n",
       " 0.654350952085609,\n",
       " 0.6543492729803048,\n",
       " 0.6543475951473094,\n",
       " 0.654345918585088,\n",
       " 0.654344243292139,\n",
       " 0.6543425692669955,\n",
       " 0.6543408965082242,\n",
       " 0.6543392250144211,\n",
       " 0.6543375547842121,\n",
       " 0.6543358858162517,\n",
       " 0.6543342181092178,\n",
       " 0.6543325516618169,\n",
       " 0.6543308864727755,\n",
       " 0.6543292225408451,\n",
       " 0.6543275598647954,\n",
       " 0.6543258984434196,\n",
       " 0.6543242382755261,\n",
       " 0.6543225793599446,\n",
       " 0.6543209216955205,\n",
       " 0.6543192652811156,\n",
       " 0.6543176101156054,\n",
       " 0.6543159561978825,\n",
       " 0.6543143035268522,\n",
       " 0.6543126521014326,\n",
       " 0.6543110019205539,\n",
       " 0.6543093529831597,\n",
       " 0.6543077052882026,\n",
       " 0.6543060588346468,\n",
       " 0.6543044136214676,\n",
       " 0.6543027696476479,\n",
       " 0.6543011269121826,\n",
       " 0.6542994854140701,\n",
       " 0.6542978451523224,\n",
       " 0.6542962061259567,\n",
       " 0.6542945683339975,\n",
       " 0.6542929317754764,\n",
       " 0.6542912964494318,\n",
       " 0.6542896623549093,\n",
       " 0.6542880294909591,\n",
       " 0.6542863978566373,\n",
       " 0.6542847674510075,\n",
       " 0.6542831382731343,\n",
       " 0.654281510322092,\n",
       " 0.6542798835969568,\n",
       " 0.6542782580968086,\n",
       " 0.6542766338207339,\n",
       " 0.6542750107678227,\n",
       " 0.6542733889371664,\n",
       " 0.6542717683278632,\n",
       " 0.6542701489390138,\n",
       " 0.6542685307697208,\n",
       " 0.6542669138190927,\n",
       " 0.654265298086238,\n",
       " 0.6542636835702706,\n",
       " 0.6542620702703053,\n",
       " 0.6542604581854611,\n",
       " 0.6542588473148574,\n",
       " 0.6542572376576188,\n",
       " 0.6542556292128706,\n",
       " 0.6542540219797404,\n",
       " 0.654252415957358,\n",
       " 0.6542508111448546,\n",
       " 0.6542492075413647,\n",
       " 0.6542476051460235,\n",
       " 0.6542460039579688,\n",
       " 0.6542444039763397,\n",
       " 0.6542428052002767,\n",
       " 0.6542412076289222,\n",
       " 0.654239611261421,\n",
       " 0.6542380160969167,\n",
       " 0.6542364221345573,\n",
       " 0.6542348293734906,\n",
       " 0.6542332378128661,\n",
       " 0.6542316474518344,\n",
       " 0.654230058289547,\n",
       " 0.6542284703251586,\n",
       " 0.6542268835578217,\n",
       " 0.6542252979866925,\n",
       " 0.6542237136109262,\n",
       " 0.6542221304296817,\n",
       " 0.6542205484421169,\n",
       " 0.6542189676473915,\n",
       " 0.6542173880446648,\n",
       " 0.6542158096330989,\n",
       " 0.6542142324118562,\n",
       " 0.654212656380099,\n",
       " 0.6542110815369919,\n",
       " 0.6542095078816991,\n",
       " 0.6542079354133864,\n",
       " 0.654206364131219,\n",
       " 0.6542047940343667,\n",
       " 0.6542032251219944,\n",
       " 0.654201657393272,\n",
       " 0.6542000908473681,\n",
       " 0.6541985254834543,\n",
       " 0.6541969613006988,\n",
       " 0.6541953982982742,\n",
       " 0.6541938364753535,\n",
       " 0.6541922758311075,\n",
       " 0.6541907163647108,\n",
       " 0.6541891580753366,\n",
       " 0.6541876009621603,\n",
       " 0.6541860450243557,\n",
       " 0.6541844902610998,\n",
       " 0.6541829366715679,\n",
       " 0.6541813842549382,\n",
       " 0.6541798330103873,\n",
       " 0.6541782829370936,\n",
       " 0.6541767340342355,\n",
       " 0.6541751863009926,\n",
       " 0.6541736397365445,\n",
       " 0.6541720943400713,\n",
       " 0.6541705501107536,\n",
       " 0.6541690070477737,\n",
       " 0.6541674651503132,\n",
       " 0.6541659244175547,\n",
       " 0.65416438484868,\n",
       " 0.6541628464428747,\n",
       " 0.6541613091993204,\n",
       " 0.6541597731172036,\n",
       " 0.6541582381957081,\n",
       " 0.6541567044340201,\n",
       " 0.6541551718313252,\n",
       " 0.6541536403868097,\n",
       " 0.6541521100996615,\n",
       " 0.6541505809690676,\n",
       " 0.6541490529942164,\n",
       " 0.6541475261742957,\n",
       " 0.6541460005084946,\n",
       " 0.6541444759960027,\n",
       " 0.6541429526360103,\n",
       " 0.6541414304277079,\n",
       " 0.654139909370285,\n",
       " 0.6541383894629348,\n",
       " 0.6541368707048488,\n",
       " 0.6541353530952176,\n",
       " 0.6541338366332359,\n",
       " 0.6541323213180957,\n",
       " 0.6541308071489925,\n",
       " 0.6541292941251171,\n",
       " 0.6541277822456688,\n",
       " 0.6541262715098392,\n",
       " 0.6541247619168247,\n",
       " 0.6541232534658218,\n",
       " 0.6541217461560269,\n",
       " 0.6541202399866368,\n",
       " 0.6541187349568487,\n",
       " 0.6541172310658614,\n",
       " 0.6541157283128716,\n",
       " 0.6541142266970799,\n",
       " 0.6541127262176849,\n",
       " 0.6541112268738856,\n",
       " 0.6541097286648828,\n",
       " 0.6541082315898774,\n",
       " 0.6541067356480698,\n",
       " 0.6541052408386615,\n",
       " 0.6541037471608558,\n",
       " 0.6541022546138532,\n",
       " 0.6541007631968581,\n",
       " 0.6540992729090738,\n",
       " 0.6540977837497026,\n",
       " 0.6540962957179502,\n",
       " 0.6540948088130207,\n",
       " 0.6540933230341193,\n",
       " 0.6540918383804519,\n",
       " 0.6540903548512237,\n",
       " 0.6540888724456425,\n",
       " 0.6540873911629138,\n",
       " 0.654085911002246,\n",
       " 0.654084431962846,\n",
       " 0.6540829540439238,\n",
       " 0.6540814772446866,\n",
       " 0.6540800015643439,\n",
       " 0.6540785270021051,\n",
       " 0.6540770535571812,\n",
       " 0.6540755812287822,\n",
       " 0.654074110016118,\n",
       " 0.6540726399184018,\n",
       " 0.6540711709348449,\n",
       " 0.6540697030646582,\n",
       " 0.6540682363070567,\n",
       " 0.6540667706612523,\n",
       " 0.6540653061264577,\n",
       " 0.6540638427018897,\n",
       " 0.6540623803867605,\n",
       " 0.6540609191802855,\n",
       " 0.6540594590816808,\n",
       " 0.6540580000901621,\n",
       " 0.6540565422049448,\n",
       " 0.654055085425247,\n",
       " 0.6540536297502852,\n",
       " 0.6540521751792773,\n",
       " 0.65405072171144,\n",
       " 0.6540492693459947,\n",
       " 0.6540478180821583,\n",
       " 0.6540463679191503,\n",
       " 0.6540449188561903,\n",
       " 0.6540434708925,\n",
       " 0.6540420240272986,\n",
       " 0.6540405782598089,\n",
       " 0.6540391335892508,\n",
       " 0.6540376900148483,\n",
       " 0.6540362475358231,\n",
       " 0.6540348061513962,\n",
       " 0.6540333658607942,\n",
       " 0.6540319266632391,\n",
       " 0.6540304885579556,\n",
       " 0.654029051544169,\n",
       " 0.6540276156211042,\n",
       " 0.654026180787985,\n",
       " 0.6540247470440403,\n",
       " 0.6540233143884948,\n",
       " 0.6540218828205759,\n",
       " 0.6540204523395123,\n",
       " 0.6540190229445292,\n",
       " 0.6540175946348571,\n",
       " 0.6540161674097242,\n",
       " 0.6540147412683595,\n",
       " 0.6540133162099913,\n",
       " 0.6540118922338514,\n",
       " 0.6540104693391706,\n",
       " 0.6540090475251781,\n",
       " 0.6540076267911064,\n",
       " 0.6540062071361877,\n",
       " 0.6540047885596532,\n",
       " 0.6540033710607361,\n",
       " 0.6540019546386696,\n",
       " 0.6540005392926868,\n",
       " 0.6539991250220226,\n",
       " 0.6539977118259109,\n",
       " 0.6539962997035866,\n",
       " 0.6539948886542857,\n",
       " 0.6539934786772428,\n",
       " 0.6539920697716949,\n",
       " 0.6539906619368786,\n",
       " 0.6539892551720304,\n",
       " 0.6539878494763897,\n",
       " 0.6539864448491923,\n",
       " 0.6539850412896773,\n",
       " 0.6539836387970841,\n",
       " 0.6539822373706522,\n",
       " 0.65398083700962,\n",
       " 0.6539794377132301,\n",
       " 0.6539780394807208,\n",
       " 0.6539766423113332,\n",
       " 0.6539752462043109,\n",
       " 0.6539738511588944,\n",
       " 0.6539724571743256,\n",
       " 0.6539710642498477,\n",
       " 0.6539696723847053,\n",
       " 0.6539682815781415,\n",
       " 0.6539668918293986,\n",
       " 0.653965503137724,\n",
       " 0.6539641155023612,\n",
       " 0.6539627289225554,\n",
       " 0.6539613433975536,\n",
       " 0.6539599589266012,\n",
       " 0.6539585755089455,\n",
       " 0.6539571931438338,\n",
       " 0.6539558118305124,\n",
       " 0.6539544315682323,\n",
       " 0.6539530523562388,\n",
       " 0.6539516741937839,\n",
       " 0.6539502970801145,\n",
       " 0.6539489210144819,\n",
       " 0.6539475459961361,\n",
       " 0.6539461720243279,\n",
       " 0.6539447990983084,\n",
       " 0.6539434272173295,\n",
       " 0.653942056380642,\n",
       " 0.6539406865875004,\n",
       " 0.6539393178371562,\n",
       " 0.6539379501288631,\n",
       " 0.653936583461875,\n",
       " 0.6539352178354464,\n",
       " 0.6539338532488315,\n",
       " 0.653932489701286,\n",
       " 0.6539311271920651,\n",
       " 0.6539297657204246,\n",
       " 0.6539284052856216,\n",
       " 0.653927045886913,\n",
       " 0.6539256875235544,\n",
       " 0.6539243301948054,\n",
       " 0.6539229738999238,\n",
       " 0.6539216186381682,\n",
       " 0.6539202644087975,\n",
       " 0.6539189112110706,\n",
       " 0.6539175590442494,\n",
       " 0.6539162079075921,\n",
       " 0.6539148578003607,\n",
       " 0.6539135087218159,\n",
       " 0.6539121606712196,\n",
       " 0.6539108136478343,\n",
       " 0.6539094676509214,\n",
       " 0.6539081226797461,\n",
       " 0.6539067787335694,\n",
       " 0.6539054358116565,\n",
       " 0.6539040939132714,\n",
       " 0.6539027530376786,\n",
       " 0.6539014131841442,\n",
       " 0.653900074351933,\n",
       " 0.6538987365403106,\n",
       " 0.6538973997485454,\n",
       " 0.6538960639759014,\n",
       " 0.653894729221649,\n",
       " 0.6538933954850532,\n",
       " 0.6538920627653846,\n",
       " 0.6538907310619111,\n",
       " 0.6538894003739004,\n",
       " 0.653888070700625,\n",
       " 0.6538867420413511,\n",
       " 0.653885414395352,\n",
       " 0.653884087761898,\n",
       " 0.6538827621402601,\n",
       " 0.6538814375297088,\n",
       " 0.6538801139295182,\n",
       " 0.6538787913389601,\n",
       " 0.653877469757307,\n",
       " 0.6538761491838332,\n",
       " 0.6538748296178114,\n",
       " 0.6538735110585174,\n",
       " 0.6538721935052249,\n",
       " 0.65387087695721,\n",
       " 0.6538695614137466,\n",
       " 0.6538682468741126,\n",
       " 0.6538669333375842,\n",
       " 0.6538656208034368,\n",
       " 0.6538643092709499,\n",
       " 0.6538629987393991,\n",
       " 0.6538616892080649,\n",
       " 0.653860380676224,\n",
       " 0.6538590731431568,\n",
       " 0.6538577666081418,\n",
       " 0.65385646107046,\n",
       " 0.6538551565293903,\n",
       " 0.6538538529842151,\n",
       " 0.6538525504342144,\n",
       " 0.653851248878672,\n",
       " 0.6538499483168668,\n",
       " 0.6538486487480836,\n",
       " 0.6538473501716046,\n",
       " 0.6538460525867138,\n",
       " 0.6538447559926945,\n",
       " 0.6538434603888308,\n",
       " 0.6538421657744082,\n",
       " 0.653840872148711,\n",
       " 0.6538395795110252,\n",
       " 0.6538382878606368,\n",
       " 0.6538369971968317,\n",
       " 0.6538357075188977,\n",
       " 0.6538344188261219,\n",
       " 0.6538331311177916,\n",
       " 0.6538318443931946,\n",
       " 0.6538305586516211,\n",
       " 0.6538292738923569,\n",
       " 0.6538279901146953,\n",
       " 0.6538267073179236,\n",
       " 0.6538254255013337,\n",
       " 0.6538241446642142,\n",
       " 0.653822864805859,\n",
       " 0.653821585925558,\n",
       " 0.6538203080226033,\n",
       " 0.6538190310962879,\n",
       " 0.653817755145904,\n",
       " 0.6538164801707459,\n",
       " 0.6538152061701062,\n",
       " 0.6538139331432802,\n",
       " 0.6538126610895615,\n",
       " 0.6538113900082457,\n",
       " 0.653810119898628,\n",
       " 0.6538088507600047,\n",
       " 0.6538075825916722,\n",
       " 0.6538063153929268,\n",
       " 0.6538050491630651,\n",
       " 0.6538037839013863,\n",
       " 0.6538025196071872,\n",
       " 0.6538012562797664,\n",
       " 0.6537999939184231,\n",
       " 0.6537987325224572,\n",
       " 0.6537974720911669,\n",
       " 0.6537962126238537,\n",
       " 0.6537949541198174,\n",
       " 0.6537936965783598,\n",
       " 0.6537924399987823,\n",
       " 0.653791184380386,\n",
       " 0.6537899297224734,\n",
       " 0.6537886760243482,\n",
       " 0.6537874232853131,\n",
       " 0.6537861715046706,\n",
       " 0.653784920681726,\n",
       " 0.6537836708157838,\n",
       " 0.6537824219061479,\n",
       " 0.6537811739521243,\n",
       " 0.6537799269530187,\n",
       " 0.6537786809081376,\n",
       " 0.6537774358167868,\n",
       " 0.6537761916782732,\n",
       " 0.6537749484919049,\n",
       " 0.6537737062569894,\n",
       " 0.6537724649728353,\n",
       " 0.6537712246387517,\n",
       " 0.6537699852540471,\n",
       " 0.6537687468180309,\n",
       " 0.6537675093300134,\n",
       " 0.6537662727893049,\n",
       " 0.6537650371952164,\n",
       " 0.6537638025470588,\n",
       " 0.653762568844144,\n",
       " 0.6537613360857851,\n",
       " 0.653760104271293,\n",
       " 0.6537588733999823,\n",
       " 0.6537576434711644,\n",
       " 0.6537564144841549,\n",
       " 0.6537551864382665,\n",
       " 0.6537539593328151,\n",
       " 0.6537527331671157,\n",
       " 0.6537515079404836,\n",
       " 0.6537502836522341,\n",
       " 0.6537490603016847,\n",
       " 0.6537478378881506,\n",
       " 0.6537466164109508,\n",
       " 0.6537453958694014,\n",
       " 0.6537441762628229,\n",
       " 0.6537429575905305,\n",
       " 0.6537417398518449,\n",
       " 0.6537405230460851,\n",
       " 0.653739307172571,\n",
       " 0.6537380922306223,\n",
       " 0.6537368782195603,\n",
       " 0.6537356651387056,\n",
       " 0.6537344529873803,\n",
       " 0.6537332417649049,\n",
       " 0.6537320314706027,\n",
       " 0.6537308221037962,\n",
       " 0.6537296136638079,\n",
       " 0.6537284061499624,\n",
       " 0.6537271995615823,\n",
       " 0.6537259938979939,\n",
       " 0.65372478915852,\n",
       " 0.6537235853424871,\n",
       " 0.6537223824492211,\n",
       " 0.6537211804780465,\n",
       " 0.653719979428291,\n",
       " 0.6537187792992821,\n",
       " 0.6537175800903452,\n",
       " 0.6537163818008094,\n",
       " 0.6537151844300024,\n",
       " 0.6537139879772533,\n",
       " 0.6537127924418913,\n",
       " 0.6537115978232443,\n",
       " 0.6537104041206437,\n",
       " 0.6537092113334186,\n",
       " 0.6537080194609016,\n",
       " 0.653706828502421,\n",
       " 0.6537056384573112,\n",
       " 0.6537044493249019,\n",
       " 0.6537032611045263,\n",
       " 0.6537020737955175,\n",
       " 0.653700887397209,\n",
       " 0.6536997019089326,\n",
       " 0.6536985173300245,\n",
       " 0.6536973336598176,\n",
       " 0.6536961508976475,\n",
       " 0.6536949690428502,\n",
       " 0.6536937880947602,\n",
       " 0.6536926080527139,\n",
       " 0.6536914289160477,\n",
       " 0.6536902506840996,\n",
       " 0.6536890733562051,\n",
       " 0.6536878969317036,\n",
       " 0.6536867214099329,\n",
       " 0.6536855467902317,\n",
       " 0.6536843730719388,\n",
       " 0.6536832002543936,\n",
       " 0.6536820283369364,\n",
       " 0.6536808573189068,\n",
       " 0.6536796871996463,\n",
       " 0.6536785179784954,\n",
       " 0.653677349654796,\n",
       " 0.6536761822278898,\n",
       " 0.6536750156971199,\n",
       " 0.6536738500618278,\n",
       " 0.6536726853213579,\n",
       " 0.653671521475053,\n",
       " 0.6536703585222581,\n",
       " 0.6536691964623166,\n",
       " 0.6536680352945737,\n",
       " 0.6536668750183751,\n",
       " 0.6536657156330661,\n",
       " 0.6536645571379928,\n",
       " 0.6536633995325016,\n",
       " 0.65366224281594,\n",
       " 0.6536610869876547,\n",
       " 0.6536599320469938,\n",
       " 0.6536587779933062,\n",
       " 0.6536576248259386,\n",
       " 0.653656472544242,\n",
       " 0.6536553211475646,\n",
       " 0.6536541706352568,\n",
       " 0.6536530210066687,\n",
       " 0.6536518722611497,\n",
       " 0.6536507243980532,\n",
       " 0.6536495774167305,\n",
       " 0.6536484313165308,\n",
       " 0.6536472860968087,\n",
       " 0.6536461417569165,\n",
       " 0.653644998296208,\n",
       " 0.653643855714035,\n",
       " 0.653642714009752,\n",
       " 0.6536415731827148,\n",
       " 0.653640433232277,\n",
       " 0.6536392941577941,\n",
       " 0.653638155958621,\n",
       " 0.6536370186341147,\n",
       " 0.6536358821836307,\n",
       " 0.6536347466065273,\n",
       " 0.6536336119021605,\n",
       " 0.6536324780698874,\n",
       " 0.6536313451090676,\n",
       " 0.6536302130190589,\n",
       " 0.6536290817992205,\n",
       " 0.6536279514489103,\n",
       " 0.6536268219674909,\n",
       " 0.653625693354318,\n",
       " 0.6536245656087568,\n",
       " 0.6536234387301658,\n",
       " 0.6536223127179062,\n",
       " 0.6536211875713412,\n",
       " 0.6536200632898308,\n",
       " 0.6536189398727401,\n",
       " 0.6536178173194297,\n",
       " 0.6536166956292644,\n",
       " 0.6536155748016077,\n",
       " 0.6536144548358241,\n",
       " 0.6536133357312781,\n",
       " 0.6536122174873336,\n",
       " 0.6536111001033579,\n",
       " 0.6536099835787155,\n",
       " 0.6536088679127726,\n",
       " 0.653607753104897,\n",
       " 0.6536066391544544,\n",
       " 0.653605526060814,\n",
       " 0.6536044138233417,\n",
       " 0.6536033024414064,\n",
       " 0.6536021919143782,\n",
       " 0.6536010822416243,\n",
       " 0.6535999734225155,\n",
       " 0.6535988654564202,\n",
       " 0.6535977583427107,\n",
       " 0.653596652080756,\n",
       " 0.6535955466699283,\n",
       " 0.6535944421095985,\n",
       " 0.6535933383991387,\n",
       " 0.6535922355379216,\n",
       " 0.6535911335253197,\n",
       " 0.6535900323607061,\n",
       " 0.6535889320434547,\n",
       " 0.6535878325729393,\n",
       " 0.6535867339485332,\n",
       " 0.6535856361696123,\n",
       " 0.6535845392355523,\n",
       " 0.6535834431457275,\n",
       " 0.6535823478995144,\n",
       " 0.6535812534962895,\n",
       " 0.6535801599354292,\n",
       " 0.6535790672163116,\n",
       " 0.6535779753383133,\n",
       " 0.6535768843008124,\n",
       " 0.6535757941031879,\n",
       " 0.6535747047448189,\n",
       " 0.6535736162250839,\n",
       " 0.6535725285433618,\n",
       " 0.6535714416990336,\n",
       " 0.6535703556914799,\n",
       " 0.653569270520081,\n",
       " 0.6535681861842187,\n",
       " 0.6535671026832737,\n",
       " 0.6535660200166289,\n",
       " 0.6535649381836662,\n",
       " 0.6535638571837682,\n",
       " 0.653562777016319,\n",
       " 0.6535616976807016,\n",
       " 0.6535606191763,\n",
       " 0.653559541502499,\n",
       " 0.6535584646586836,\n",
       " 0.6535573886442386,\n",
       " 0.6535563134585496,\n",
       " 0.6535552391010021,\n",
       " 0.6535541655709834,\n",
       " 0.6535530928678805,\n",
       " 0.6535520209910801,\n",
       " 0.6535509499399701,\n",
       " 0.6535498797139381,\n",
       " 0.6535488103123733,\n",
       " 0.6535477417346636,\n",
       " 0.653546673980199,\n",
       " 0.6535456070483686,\n",
       " 0.6535445409385627,\n",
       " 0.6535434756501721,\n",
       " 0.6535424111825869,\n",
       " 0.6535413475351983,\n",
       " 0.6535402847073981,\n",
       " 0.6535392226985797,\n",
       " 0.6535381615081326,\n",
       " 0.6535371011354524,\n",
       " 0.6535360415799312,\n",
       " 0.6535349828409621,\n",
       " 0.6535339249179397,\n",
       " 0.6535328678102584,\n",
       " 0.6535318115173127,\n",
       " 0.6535307560384984,\n",
       " 0.6535297013732105,\n",
       " 0.6535286475208453,\n",
       " 0.6535275944807988,\n",
       " 0.6535265422524684,\n",
       " 0.6535254908352514,\n",
       " 0.6535244402285432,\n",
       " 0.6535233904317445,\n",
       " 0.6535223414442534,\n",
       " 0.6535212932654665,\n",
       " 0.653520245894785,\n",
       " 0.6535191993316078,\n",
       " 0.6535181535753339,\n",
       " 0.6535171086253658,\n",
       " 0.6535160644811033,\n",
       " 0.6535150211419457,\n",
       " 0.6535139786072968,\n",
       " 0.6535129368765574,\n",
       " 0.653511895949131,\n",
       " 0.6535108558244187,\n",
       " 0.6535098165018248,\n",
       " 0.6535087779807519,\n",
       " 0.6535077402606049,\n",
       " 0.6535067033407862,\n",
       " 0.6535056672207029,\n",
       " 0.6535046318997589,\n",
       " 0.6535035973773596,\n",
       " 0.6535025636529105,\n",
       " 0.653501530725819,\n",
       " 0.6535004985954901,\n",
       " 0.6534994672613321,\n",
       " 0.6534984367227518,\n",
       " 0.6534974069791571,\n",
       " 0.6534963780299565,\n",
       " 0.6534953498745587,\n",
       " 0.6534943225123724,\n",
       " 0.6534932959428059,\n",
       " 0.653492270165271,\n",
       " 0.6534912451791768,\n",
       " 0.6534902209839337,\n",
       " 0.653489197578953,\n",
       " 0.6534881749636449,\n",
       " 0.6534871531374233,\n",
       " 0.6534861320996979,\n",
       " 0.6534851118498832,\n",
       " 0.6534840923873909,\n",
       " 0.6534830737116344,\n",
       " 0.6534820558220275,\n",
       " 0.6534810387179842,\n",
       " 0.6534800223989192,\n",
       " 0.6534790068642478,\n",
       " 0.6534779921133838,\n",
       " 0.6534769781457435,\n",
       " 0.6534759649607436,\n",
       " 0.6534749525577992,\n",
       " 0.6534739409363275,\n",
       " 0.653472930095746,\n",
       " 0.6534719200354724,\n",
       " 0.6534709107549241,\n",
       " 0.6534699022535196,\n",
       " 0.6534688945306775,\n",
       " 0.6534678875858166,\n",
       " 0.6534668814183571,\n",
       " 0.6534658760277183,\n",
       " 0.6534648714133213,\n",
       " 0.6534638675745853,\n",
       " 0.6534628645109332,\n",
       " 0.6534618622217849,\n",
       " 0.6534608607065624,\n",
       " 0.6534598599646885,\n",
       " 0.6534588599955842,\n",
       " 0.6534578607986745,\n",
       " 0.6534568623733814,\n",
       " 0.6534558647191295,\n",
       " 0.6534548678353422,\n",
       " 0.6534538717214438,\n",
       " 0.6534528763768603,\n",
       " 0.6534518818010158,\n",
       " 0.6534508879933371,\n",
       " 0.653449894953249,\n",
       " 0.6534489026801784,\n",
       " 0.6534479111735522,\n",
       " 0.6534469204327974,\n",
       " 0.653445930457341,\n",
       " 0.6534449412466128,\n",
       " 0.6534439528000388,\n",
       " 0.6534429651170496,\n",
       " 0.6534419781970725,\n",
       " 0.6534409920395394,\n",
       " 0.6534400066438768,\n",
       " 0.6534390220095185,\n",
       " 0.6534380381358926,\n",
       " 0.6534370550224315,\n",
       " 0.6534360726685655,\n",
       " 0.6534350910737272,\n",
       " 0.6534341102373479,\n",
       " 0.6534331301588615,\n",
       " 0.6534321508376993,\n",
       " 0.6534311722732952,\n",
       " 0.653430194465083,\n",
       " 0.653429217412497,\n",
       " 0.6534282411149718]"
      ]
     },
     "execution_count": 159,
     "metadata": {},
     "output_type": "execute_result"
    }
   ],
   "source": [
    "J_history"
   ]
  },
  {
   "cell_type": "code",
   "execution_count": 150,
   "metadata": {},
   "outputs": [
    {
     "data": {
      "text/plain": [
       "array([ 0.32704674, -0.10281763])"
      ]
     },
     "execution_count": 150,
     "metadata": {},
     "output_type": "execute_result"
    }
   ],
   "source": [
    "w"
   ]
  },
  {
   "cell_type": "code",
   "execution_count": 151,
   "metadata": {},
   "outputs": [
    {
     "data": {
      "text/plain": [
       "-0.5479344095070264"
      ]
     },
     "execution_count": 151,
     "metadata": {},
     "output_type": "execute_result"
    }
   ],
   "source": [
    "b"
   ]
  },
  {
   "cell_type": "code",
   "execution_count": 152,
   "metadata": {},
   "outputs": [
    {
     "data": {
      "text/html": [
       "<div>\n",
       "<style scoped>\n",
       "    .dataframe tbody tr th:only-of-type {\n",
       "        vertical-align: middle;\n",
       "    }\n",
       "\n",
       "    .dataframe tbody tr th {\n",
       "        vertical-align: top;\n",
       "    }\n",
       "\n",
       "    .dataframe thead th {\n",
       "        text-align: right;\n",
       "    }\n",
       "</style>\n",
       "<table border=\"1\" class=\"dataframe\">\n",
       "  <thead>\n",
       "    <tr style=\"text-align: right;\">\n",
       "      <th></th>\n",
       "      <th>Ticket</th>\n",
       "      <th>Age</th>\n",
       "    </tr>\n",
       "  </thead>\n",
       "  <tbody>\n",
       "    <tr>\n",
       "      <th>0</th>\n",
       "      <td>0.106701</td>\n",
       "      <td>0.453947</td>\n",
       "    </tr>\n",
       "    <tr>\n",
       "      <th>1</th>\n",
       "      <td>0.117135</td>\n",
       "      <td>0.618421</td>\n",
       "    </tr>\n",
       "    <tr>\n",
       "      <th>2</th>\n",
       "      <td>0.077476</td>\n",
       "      <td>0.815789</td>\n",
       "    </tr>\n",
       "    <tr>\n",
       "      <th>3</th>\n",
       "      <td>0.101620</td>\n",
       "      <td>0.355263</td>\n",
       "    </tr>\n",
       "    <tr>\n",
       "      <th>4</th>\n",
       "      <td>1.000000</td>\n",
       "      <td>0.289474</td>\n",
       "    </tr>\n",
       "  </tbody>\n",
       "</table>\n",
       "</div>"
      ],
      "text/plain": [
       "     Ticket       Age\n",
       "0  0.106701  0.453947\n",
       "1  0.117135  0.618421\n",
       "2  0.077476  0.815789\n",
       "3  0.101620  0.355263\n",
       "4  1.000000  0.289474"
      ]
     },
     "execution_count": 152,
     "metadata": {},
     "output_type": "execute_result"
    }
   ],
   "source": [
    "X.head()"
   ]
  },
  {
   "cell_type": "code",
   "execution_count": 153,
   "metadata": {},
   "outputs": [
    {
     "data": {
      "text/plain": [
       "0    0\n",
       "1    1\n",
       "2    0\n",
       "3    0\n",
       "4    1\n",
       "Name: Survived, dtype: int64"
      ]
     },
     "execution_count": 153,
     "metadata": {},
     "output_type": "execute_result"
    }
   ],
   "source": [
    "y.head()"
   ]
  },
  {
   "cell_type": "code",
   "execution_count": 160,
   "metadata": {},
   "outputs": [],
   "source": [
    "for i in range(len(X)):\n",
    "    if sigmoid(np.dot(np.array([w[0], w[1]]), np.array([X.iloc[i][0], X.iloc[i][1]])) + b) >= 0.5:\n",
    "        print(sigmoid(np.dot(np.array([w[0], w[1]]), np.array([X.iloc[i][0], X.iloc[i][1]])) + b))\n"
   ]
  },
  {
   "cell_type": "code",
   "execution_count": 158,
   "metadata": {},
   "outputs": [
    {
     "data": {
      "text/plain": [
       "[<matplotlib.lines.Line2D at 0x20c0d1f2a40>]"
      ]
     },
     "execution_count": 158,
     "metadata": {},
     "output_type": "execute_result"
    },
    {
     "data": {
      "image/png": "[encoded data removed]",
      "text/plain": [
       "<Figure size 432x288 with 1 Axes>"
      ]
     },
     "metadata": {
      "needs_background": "light"
     },
     "output_type": "display_data"
    }
   ],
   "source": [
    "plt.plot(np.arange(0, len(J_history)), J_history)"
   ]
  },
  {
   "attachments": {},
   "cell_type": "markdown",
   "metadata": {},
   "source": [
    "Scikit-Learn\n",
    "General Syntax for importing\n",
    "```python:\n",
    "from sklearn.model_family import ModelAlgo\n",
    "mymodel = ModelAlgo(param1, param2)\n",
    "mymodel.fit(X_train, y_train)\n",
    "predictions = mymodel.predict(X_test)\n",
    "----\n",
    "from sklearn.metrics import error_metric\n",
    "performance = error_metric(y_test, predictions)\n"
   ]
  },
  {
   "cell_type": "code",
   "execution_count": 6,
   "metadata": {},
   "outputs": [],
   "source": [
    "df = pd.read_csv('Advertising.csv')"
   ]
  },
  {
   "cell_type": "code",
   "execution_count": 7,
   "metadata": {},
   "outputs": [
    {
     "data": {
      "text/html": [
       "<div>\n",
       "<style scoped>\n",
       "    .dataframe tbody tr th:only-of-type {\n",
       "        vertical-align: middle;\n",
       "    }\n",
       "\n",
       "    .dataframe tbody tr th {\n",
       "        vertical-align: top;\n",
       "    }\n",
       "\n",
       "    .dataframe thead th {\n",
       "        text-align: right;\n",
       "    }\n",
       "</style>\n",
       "<table border=\"1\" class=\"dataframe\">\n",
       "  <thead>\n",
       "    <tr style=\"text-align: right;\">\n",
       "      <th></th>\n",
       "      <th>TV</th>\n",
       "      <th>radio</th>\n",
       "      <th>newspaper</th>\n",
       "      <th>sales</th>\n",
       "    </tr>\n",
       "  </thead>\n",
       "  <tbody>\n",
       "    <tr>\n",
       "      <th>0</th>\n",
       "      <td>230.1</td>\n",
       "      <td>37.8</td>\n",
       "      <td>69.2</td>\n",
       "      <td>22.1</td>\n",
       "    </tr>\n",
       "    <tr>\n",
       "      <th>1</th>\n",
       "      <td>44.5</td>\n",
       "      <td>39.3</td>\n",
       "      <td>45.1</td>\n",
       "      <td>10.4</td>\n",
       "    </tr>\n",
       "    <tr>\n",
       "      <th>2</th>\n",
       "      <td>17.2</td>\n",
       "      <td>45.9</td>\n",
       "      <td>69.3</td>\n",
       "      <td>9.3</td>\n",
       "    </tr>\n",
       "    <tr>\n",
       "      <th>3</th>\n",
       "      <td>151.5</td>\n",
       "      <td>41.3</td>\n",
       "      <td>58.5</td>\n",
       "      <td>18.5</td>\n",
       "    </tr>\n",
       "    <tr>\n",
       "      <th>4</th>\n",
       "      <td>180.8</td>\n",
       "      <td>10.8</td>\n",
       "      <td>58.4</td>\n",
       "      <td>12.9</td>\n",
       "    </tr>\n",
       "  </tbody>\n",
       "</table>\n",
       "</div>"
      ],
      "text/plain": [
       "      TV  radio  newspaper  sales\n",
       "0  230.1   37.8       69.2   22.1\n",
       "1   44.5   39.3       45.1   10.4\n",
       "2   17.2   45.9       69.3    9.3\n",
       "3  151.5   41.3       58.5   18.5\n",
       "4  180.8   10.8       58.4   12.9"
      ]
     },
     "execution_count": 7,
     "metadata": {},
     "output_type": "execute_result"
    }
   ],
   "source": [
    "df.head()"
   ]
  },
  {
   "cell_type": "code",
   "execution_count": 8,
   "metadata": {},
   "outputs": [
    {
     "data": {
      "text/plain": [
       "<seaborn.axisgrid.PairGrid at 0x1cffeac6ec0>"
      ]
     },
     "execution_count": 8,
     "metadata": {},
     "output_type": "execute_result"
    },
    {
     "data": {
      "image/png": "[encoded data removed]",
      "text/plain": [
       "<Figure size 720x720 with 20 Axes>"
      ]
     },
     "metadata": {
      "needs_background": "light"
     },
     "output_type": "display_data"
    }
   ],
   "source": [
    "sns.pairplot(data = df)"
   ]
  },
  {
   "cell_type": "code",
   "execution_count": 10,
   "metadata": {},
   "outputs": [],
   "source": [
    "X = df.drop('sales', axis = 1)"
   ]
  },
  {
   "cell_type": "code",
   "execution_count": 11,
   "metadata": {},
   "outputs": [
    {
     "data": {
      "text/html": [
       "<div>\n",
       "<style scoped>\n",
       "    .dataframe tbody tr th:only-of-type {\n",
       "        vertical-align: middle;\n",
       "    }\n",
       "\n",
       "    .dataframe tbody tr th {\n",
       "        vertical-align: top;\n",
       "    }\n",
       "\n",
       "    .dataframe thead th {\n",
       "        text-align: right;\n",
       "    }\n",
       "</style>\n",
       "<table border=\"1\" class=\"dataframe\">\n",
       "  <thead>\n",
       "    <tr style=\"text-align: right;\">\n",
       "      <th></th>\n",
       "      <th>TV</th>\n",
       "      <th>radio</th>\n",
       "      <th>newspaper</th>\n",
       "    </tr>\n",
       "  </thead>\n",
       "  <tbody>\n",
       "    <tr>\n",
       "      <th>0</th>\n",
       "      <td>230.1</td>\n",
       "      <td>37.8</td>\n",
       "      <td>69.2</td>\n",
       "    </tr>\n",
       "    <tr>\n",
       "      <th>1</th>\n",
       "      <td>44.5</td>\n",
       "      <td>39.3</td>\n",
       "      <td>45.1</td>\n",
       "    </tr>\n",
       "    <tr>\n",
       "      <th>2</th>\n",
       "      <td>17.2</td>\n",
       "      <td>45.9</td>\n",
       "      <td>69.3</td>\n",
       "    </tr>\n",
       "    <tr>\n",
       "      <th>3</th>\n",
       "      <td>151.5</td>\n",
       "      <td>41.3</td>\n",
       "      <td>58.5</td>\n",
       "    </tr>\n",
       "    <tr>\n",
       "      <th>4</th>\n",
       "      <td>180.8</td>\n",
       "      <td>10.8</td>\n",
       "      <td>58.4</td>\n",
       "    </tr>\n",
       "    <tr>\n",
       "      <th>...</th>\n",
       "      <td>...</td>\n",
       "      <td>...</td>\n",
       "      <td>...</td>\n",
       "    </tr>\n",
       "    <tr>\n",
       "      <th>195</th>\n",
       "      <td>38.2</td>\n",
       "      <td>3.7</td>\n",
       "      <td>13.8</td>\n",
       "    </tr>\n",
       "    <tr>\n",
       "      <th>196</th>\n",
       "      <td>94.2</td>\n",
       "      <td>4.9</td>\n",
       "      <td>8.1</td>\n",
       "    </tr>\n",
       "    <tr>\n",
       "      <th>197</th>\n",
       "      <td>177.0</td>\n",
       "      <td>9.3</td>\n",
       "      <td>6.4</td>\n",
       "    </tr>\n",
       "    <tr>\n",
       "      <th>198</th>\n",
       "      <td>283.6</td>\n",
       "      <td>42.0</td>\n",
       "      <td>66.2</td>\n",
       "    </tr>\n",
       "    <tr>\n",
       "      <th>199</th>\n",
       "      <td>232.1</td>\n",
       "      <td>8.6</td>\n",
       "      <td>8.7</td>\n",
       "    </tr>\n",
       "  </tbody>\n",
       "</table>\n",
       "<p>200 rows × 3 columns</p>\n",
       "</div>"
      ],
      "text/plain": [
       "        TV  radio  newspaper\n",
       "0    230.1   37.8       69.2\n",
       "1     44.5   39.3       45.1\n",
       "2     17.2   45.9       69.3\n",
       "3    151.5   41.3       58.5\n",
       "4    180.8   10.8       58.4\n",
       "..     ...    ...        ...\n",
       "195   38.2    3.7       13.8\n",
       "196   94.2    4.9        8.1\n",
       "197  177.0    9.3        6.4\n",
       "198  283.6   42.0       66.2\n",
       "199  232.1    8.6        8.7\n",
       "\n",
       "[200 rows x 3 columns]"
      ]
     },
     "execution_count": 11,
     "metadata": {},
     "output_type": "execute_result"
    }
   ],
   "source": [
    "X"
   ]
  },
  {
   "cell_type": "code",
   "execution_count": 12,
   "metadata": {},
   "outputs": [],
   "source": [
    "y = df['sales']"
   ]
  },
  {
   "cell_type": "code",
   "execution_count": 13,
   "metadata": {},
   "outputs": [
    {
     "data": {
      "text/plain": [
       "0      22.1\n",
       "1      10.4\n",
       "2       9.3\n",
       "3      18.5\n",
       "4      12.9\n",
       "       ... \n",
       "195     7.6\n",
       "196     9.7\n",
       "197    12.8\n",
       "198    25.5\n",
       "199    13.4\n",
       "Name: sales, Length: 200, dtype: float64"
      ]
     },
     "execution_count": 13,
     "metadata": {},
     "output_type": "execute_result"
    }
   ],
   "source": [
    "y"
   ]
  },
  {
   "cell_type": "code",
   "execution_count": 14,
   "metadata": {},
   "outputs": [],
   "source": [
    "from sklearn.model_selection import train_test_split"
   ]
  },
  {
   "cell_type": "code",
   "execution_count": 15,
   "metadata": {},
   "outputs": [],
   "source": [
    "X_train, X_test, y_train, y_test = train_test_split(X,y, test_size = 0.3, random_state = 101)"
   ]
  },
  {
   "cell_type": "code",
   "execution_count": 16,
   "metadata": {},
   "outputs": [],
   "source": [
    "# Creating a Estimator\n",
    "from sklearn.linear_model import LinearRegression"
   ]
  },
  {
   "cell_type": "code",
   "execution_count": 17,
   "metadata": {},
   "outputs": [],
   "source": [
    "model = LinearRegression()"
   ]
  },
  {
   "cell_type": "code",
   "execution_count": 18,
   "metadata": {},
   "outputs": [
    {
     "data": {
      "text/html": [
       "<style>#sk-container-id-1 {color: black;background-color: white;}#sk-container-id-1 pre{padding: 0;}#sk-container-id-1 div.sk-toggleable {background-color: white;}#sk-container-id-1 label.sk-toggleable__label {cursor: pointer;display: block;width: 100%;margin-bottom: 0;padding: 0.3em;box-sizing: border-box;text-align: center;}#sk-container-id-1 label.sk-toggleable__label-arrow:before {content: \"▸\";float: left;margin-right: 0.25em;color: #696969;}#sk-container-id-1 label.sk-toggleable__label-arrow:hover:before {color: black;}#sk-container-id-1 div.sk-estimator:hover label.sk-toggleable__label-arrow:before {color: black;}#sk-container-id-1 div.sk-toggleable__content {max-height: 0;max-width: 0;overflow: hidden;text-align: left;background-color: #f0f8ff;}#sk-container-id-1 div.sk-toggleable__content pre {margin: 0.2em;color: black;border-radius: 0.25em;background-color: #f0f8ff;}#sk-container-id-1 input.sk-toggleable__control:checked~div.sk-toggleable__content {max-height: 200px;max-width: 100%;overflow: auto;}#sk-container-id-1 input.sk-toggleable__control:checked~label.sk-toggleable__label-arrow:before {content: \"▾\";}#sk-container-id-1 div.sk-estimator input.sk-toggleable__control:checked~label.sk-toggleable__label {background-color: #d4ebff;}#sk-container-id-1 div.sk-label input.sk-toggleable__control:checked~label.sk-toggleable__label {background-color: #d4ebff;}#sk-container-id-1 input.sk-hidden--visually {border: 0;clip: rect(1px 1px 1px 1px);clip: rect(1px, 1px, 1px, 1px);height: 1px;margin: -1px;overflow: hidden;padding: 0;position: absolute;width: 1px;}#sk-container-id-1 div.sk-estimator {font-family: monospace;background-color: #f0f8ff;border: 1px dotted black;border-radius: 0.25em;box-sizing: border-box;margin-bottom: 0.5em;}#sk-container-id-1 div.sk-estimator:hover {background-color: #d4ebff;}#sk-container-id-1 div.sk-parallel-item::after {content: \"\";width: 100%;border-bottom: 1px solid gray;flex-grow: 1;}#sk-container-id-1 div.sk-label:hover label.sk-toggleable__label {background-color: #d4ebff;}#sk-container-id-1 div.sk-serial::before {content: \"\";position: absolute;border-left: 1px solid gray;box-sizing: border-box;top: 0;bottom: 0;left: 50%;z-index: 0;}#sk-container-id-1 div.sk-serial {display: flex;flex-direction: column;align-items: center;background-color: white;padding-right: 0.2em;padding-left: 0.2em;position: relative;}#sk-container-id-1 div.sk-item {position: relative;z-index: 1;}#sk-container-id-1 div.sk-parallel {display: flex;align-items: stretch;justify-content: center;background-color: white;position: relative;}#sk-container-id-1 div.sk-item::before, #sk-container-id-1 div.sk-parallel-item::before {content: \"\";position: absolute;border-left: 1px solid gray;box-sizing: border-box;top: 0;bottom: 0;left: 50%;z-index: -1;}#sk-container-id-1 div.sk-parallel-item {display: flex;flex-direction: column;z-index: 1;position: relative;background-color: white;}#sk-container-id-1 div.sk-parallel-item:first-child::after {align-self: flex-end;width: 50%;}#sk-container-id-1 div.sk-parallel-item:last-child::after {align-self: flex-start;width: 50%;}#sk-container-id-1 div.sk-parallel-item:only-child::after {width: 0;}#sk-container-id-1 div.sk-dashed-wrapped {border: 1px dashed gray;margin: 0 0.4em 0.5em 0.4em;box-sizing: border-box;padding-bottom: 0.4em;background-color: white;}#sk-container-id-1 div.sk-label label {font-family: monospace;font-weight: bold;display: inline-block;line-height: 1.2em;}#sk-container-id-1 div.sk-label-container {text-align: center;}#sk-container-id-1 div.sk-container {/* jupyter's `normalize.less` sets `[hidden] { display: none; }` but bootstrap.min.css set `[hidden] { display: none !important; }` so we also need the `!important` here to be able to override the default hidden behavior on the sphinx rendered scikit-learn.org. See: https://github.com/scikit-learn/scikit-learn/issues/21755 */display: inline-block !important;position: relative;}#sk-container-id-1 div.sk-text-repr-fallback {display: none;}</style><div id=\"sk-container-id-1\" class=\"sk-top-container\"><div class=\"sk-text-repr-fallback\"><pre>LinearRegression()</pre><b>In a Jupyter environment, please rerun this cell to show the HTML representation or trust the notebook. <br />On GitHub, the HTML representation is unable to render, please try loading this page with nbviewer.org.</b></div><div class=\"sk-container\" hidden><div class=\"sk-item\"><div class=\"sk-estimator sk-toggleable\"><input class=\"sk-toggleable__control sk-hidden--visually\" id=\"sk-estimator-id-1\" type=\"checkbox\" checked><label for=\"sk-estimator-id-1\" class=\"sk-toggleable__label sk-toggleable__label-arrow\">LinearRegression</label><div class=\"sk-toggleable__content\"><pre>LinearRegression()</pre></div></div></div></div></div>"
      ],
      "text/plain": [
       "LinearRegression()"
      ]
     },
     "execution_count": 18,
     "metadata": {},
     "output_type": "execute_result"
    }
   ],
   "source": [
    "model.fit(X_train, y_train)"
   ]
  },
  {
   "attachments": {},
   "cell_type": "markdown",
   "metadata": {},
   "source": [
    "### Evaluating Regression\n",
    "- Most common evaluation metrics for regression\n",
    "    - Mean Absolute Error\n",
    "        - This is the mean of the absolute value of error\n",
    "        - Summation -> | y (Real Value) - yhat (Predicted Value) | / n\n",
    "    - Mean Squared Error\n",
    "        - Larger error are \"punished\" more than MAE, making MSE more popular\n",
    "        - Summation -> (y - yhat) ^ 2 / n\n",
    "        - Issue with MSE -> It reports units of y squared metre to metre square\n",
    "    - Root Mean Square Error\n",
    "        - Just take root of *Mean Squared Error*\n",
    "- A RMSE of $10 is fantastic for predicting the price of a house, but horrible for predicting the price of a candy bar"
   ]
  },
  {
   "cell_type": "code",
   "execution_count": 19,
   "metadata": {},
   "outputs": [],
   "source": [
    "test_predictions = model.predict(X_test)"
   ]
  },
  {
   "cell_type": "code",
   "execution_count": 20,
   "metadata": {},
   "outputs": [],
   "source": [
    "from sklearn.metrics import mean_absolute_error, mean_squared_error"
   ]
  },
  {
   "cell_type": "code",
   "execution_count": 21,
   "metadata": {},
   "outputs": [
    {
     "data": {
      "text/plain": [
       "14.0225"
      ]
     },
     "execution_count": 21,
     "metadata": {},
     "output_type": "execute_result"
    }
   ],
   "source": [
    "df['sales'].mean()"
   ]
  },
  {
   "cell_type": "code",
   "execution_count": 22,
   "metadata": {},
   "outputs": [
    {
     "data": {
      "text/plain": [
       "<AxesSubplot:xlabel='sales', ylabel='Count'>"
      ]
     },
     "execution_count": 22,
     "metadata": {},
     "output_type": "execute_result"
    },
    {
     "data": {
      "image/png": "[encoded data removed]",
      "text/plain": [
       "<Figure size 432x288 with 1 Axes>"
      ]
     },
     "metadata": {
      "needs_background": "light"
     },
     "output_type": "display_data"
    }
   ],
   "source": [
    "sns.histplot(data = df, x = 'sales', bins = 20)"
   ]
  },
  {
   "cell_type": "code",
   "execution_count": 23,
   "metadata": {},
   "outputs": [
    {
     "data": {
      "text/plain": [
       "1.213745773614481"
      ]
     },
     "execution_count": 23,
     "metadata": {},
     "output_type": "execute_result"
    }
   ],
   "source": [
    "# MAE\n",
    "mean_absolute_error(y_test, test_predictions)"
   ]
  },
  {
   "cell_type": "code",
   "execution_count": 24,
   "metadata": {},
   "outputs": [
    {
     "data": {
      "text/plain": [
       "1.5161519375993884"
      ]
     },
     "execution_count": 24,
     "metadata": {},
     "output_type": "execute_result"
    }
   ],
   "source": [
    "# RMSE\n",
    "np.sqrt(mean_squared_error(y_test, test_predictions))"
   ]
  },
  {
   "attachments": {},
   "cell_type": "markdown",
   "metadata": {},
   "source": [
    "### Residual Plots\n",
    "- Check if linear regression is a good model or not\n",
    "- The residual errors should be random and close to a normal distribution\n",
    "- Normal distirbution centered at zero makes sense because we want maximum points to be centered at zero"
   ]
  },
  {
   "cell_type": "code",
   "execution_count": 25,
   "metadata": {},
   "outputs": [],
   "source": [
    "test_residuals = y_test - test_predictions"
   ]
  },
  {
   "cell_type": "code",
   "execution_count": 28,
   "metadata": {},
   "outputs": [
    {
     "data": {
      "text/plain": [
       "<matplotlib.lines.Line2D at 0x1cffff5afb0>"
      ]
     },
     "execution_count": 28,
     "metadata": {},
     "output_type": "execute_result"
    },
    {
     "data": {
      "image/png": "[encoded data removed]",
      "text/plain": [
       "<Figure size 432x288 with 1 Axes>"
      ]
     },
     "metadata": {
      "needs_background": "light"
     },
     "output_type": "display_data"
    }
   ],
   "source": [
    "sns.scatterplot(x = y_test, y = test_residuals)\n",
    "plt.axhline(y = 0, color = 'red', ls = '--')\n",
    "# The graph below should look random rather than indicating a straight line or a parabola\n",
    "# If it is a straight line it means only one point is at the point where y = 0 and we dont want that\n",
    "# We want maximum points to be at y = 0"
   ]
  },
  {
   "cell_type": "code",
   "execution_count": 29,
   "metadata": {},
   "outputs": [
    {
     "data": {
      "text/plain": [
       "<seaborn.axisgrid.FacetGrid at 0x1cfff5c9cc0>"
      ]
     },
     "execution_count": 29,
     "metadata": {},
     "output_type": "execute_result"
    },
    {
     "data": {
      "image/png": "[encoded data removed]",
      "text/plain": [
       "<Figure size 360x360 with 1 Axes>"
      ]
     },
     "metadata": {
      "needs_background": "light"
     },
     "output_type": "display_data"
    }
   ],
   "source": [
    "sns.displot(test_residuals, bins = 25, kde = True)"
   ]
  },
  {
   "cell_type": "code",
   "execution_count": 30,
   "metadata": {},
   "outputs": [],
   "source": [
    "import scipy as sp"
   ]
  },
  {
   "cell_type": "code",
   "execution_count": 33,
   "metadata": {},
   "outputs": [
    {
     "data": {
      "image/png": "[encoded data removed]",
      "text/plain": [
       "<Figure size 600x800 with 1 Axes>"
      ]
     },
     "metadata": {
      "needs_background": "light"
     },
     "output_type": "display_data"
    }
   ],
   "source": [
    "fig, ax = plt.subplots(figsize = (6, 8), dpi = 100)\n",
    "_ = sp.stats.probplot(test_residuals, plot = ax)\n",
    "# The red line below indicates how a normal distribution plot should look like\n",
    "# The more diverjed the blue dots are from the red line more your model is wrong or is not \n",
    "# suitable for that dataset"
   ]
  },
  {
   "cell_type": "code",
   "execution_count": 34,
   "metadata": {},
   "outputs": [],
   "source": [
    "final_model = LinearRegression()"
   ]
  },
  {
   "cell_type": "code",
   "execution_count": 35,
   "metadata": {},
   "outputs": [
    {
     "data": {
      "text/html": [
       "<style>#sk-container-id-2 {color: black;background-color: white;}#sk-container-id-2 pre{padding: 0;}#sk-container-id-2 div.sk-toggleable {background-color: white;}#sk-container-id-2 label.sk-toggleable__label {cursor: pointer;display: block;width: 100%;margin-bottom: 0;padding: 0.3em;box-sizing: border-box;text-align: center;}#sk-container-id-2 label.sk-toggleable__label-arrow:before {content: \"▸\";float: left;margin-right: 0.25em;color: #696969;}#sk-container-id-2 label.sk-toggleable__label-arrow:hover:before {color: black;}#sk-container-id-2 div.sk-estimator:hover label.sk-toggleable__label-arrow:before {color: black;}#sk-container-id-2 div.sk-toggleable__content {max-height: 0;max-width: 0;overflow: hidden;text-align: left;background-color: #f0f8ff;}#sk-container-id-2 div.sk-toggleable__content pre {margin: 0.2em;color: black;border-radius: 0.25em;background-color: #f0f8ff;}#sk-container-id-2 input.sk-toggleable__control:checked~div.sk-toggleable__content {max-height: 200px;max-width: 100%;overflow: auto;}#sk-container-id-2 input.sk-toggleable__control:checked~label.sk-toggleable__label-arrow:before {content: \"▾\";}#sk-container-id-2 div.sk-estimator input.sk-toggleable__control:checked~label.sk-toggleable__label {background-color: #d4ebff;}#sk-container-id-2 div.sk-label input.sk-toggleable__control:checked~label.sk-toggleable__label {background-color: #d4ebff;}#sk-container-id-2 input.sk-hidden--visually {border: 0;clip: rect(1px 1px 1px 1px);clip: rect(1px, 1px, 1px, 1px);height: 1px;margin: -1px;overflow: hidden;padding: 0;position: absolute;width: 1px;}#sk-container-id-2 div.sk-estimator {font-family: monospace;background-color: #f0f8ff;border: 1px dotted black;border-radius: 0.25em;box-sizing: border-box;margin-bottom: 0.5em;}#sk-container-id-2 div.sk-estimator:hover {background-color: #d4ebff;}#sk-container-id-2 div.sk-parallel-item::after {content: \"\";width: 100%;border-bottom: 1px solid gray;flex-grow: 1;}#sk-container-id-2 div.sk-label:hover label.sk-toggleable__label {background-color: #d4ebff;}#sk-container-id-2 div.sk-serial::before {content: \"\";position: absolute;border-left: 1px solid gray;box-sizing: border-box;top: 0;bottom: 0;left: 50%;z-index: 0;}#sk-container-id-2 div.sk-serial {display: flex;flex-direction: column;align-items: center;background-color: white;padding-right: 0.2em;padding-left: 0.2em;position: relative;}#sk-container-id-2 div.sk-item {position: relative;z-index: 1;}#sk-container-id-2 div.sk-parallel {display: flex;align-items: stretch;justify-content: center;background-color: white;position: relative;}#sk-container-id-2 div.sk-item::before, #sk-container-id-2 div.sk-parallel-item::before {content: \"\";position: absolute;border-left: 1px solid gray;box-sizing: border-box;top: 0;bottom: 0;left: 50%;z-index: -1;}#sk-container-id-2 div.sk-parallel-item {display: flex;flex-direction: column;z-index: 1;position: relative;background-color: white;}#sk-container-id-2 div.sk-parallel-item:first-child::after {align-self: flex-end;width: 50%;}#sk-container-id-2 div.sk-parallel-item:last-child::after {align-self: flex-start;width: 50%;}#sk-container-id-2 div.sk-parallel-item:only-child::after {width: 0;}#sk-container-id-2 div.sk-dashed-wrapped {border: 1px dashed gray;margin: 0 0.4em 0.5em 0.4em;box-sizing: border-box;padding-bottom: 0.4em;background-color: white;}#sk-container-id-2 div.sk-label label {font-family: monospace;font-weight: bold;display: inline-block;line-height: 1.2em;}#sk-container-id-2 div.sk-label-container {text-align: center;}#sk-container-id-2 div.sk-container {/* jupyter's `normalize.less` sets `[hidden] { display: none; }` but bootstrap.min.css set `[hidden] { display: none !important; }` so we also need the `!important` here to be able to override the default hidden behavior on the sphinx rendered scikit-learn.org. See: https://github.com/scikit-learn/scikit-learn/issues/21755 */display: inline-block !important;position: relative;}#sk-container-id-2 div.sk-text-repr-fallback {display: none;}</style><div id=\"sk-container-id-2\" class=\"sk-top-container\"><div class=\"sk-text-repr-fallback\"><pre>LinearRegression()</pre><b>In a Jupyter environment, please rerun this cell to show the HTML representation or trust the notebook. <br />On GitHub, the HTML representation is unable to render, please try loading this page with nbviewer.org.</b></div><div class=\"sk-container\" hidden><div class=\"sk-item\"><div class=\"sk-estimator sk-toggleable\"><input class=\"sk-toggleable__control sk-hidden--visually\" id=\"sk-estimator-id-2\" type=\"checkbox\" checked><label for=\"sk-estimator-id-2\" class=\"sk-toggleable__label sk-toggleable__label-arrow\">LinearRegression</label><div class=\"sk-toggleable__content\"><pre>LinearRegression()</pre></div></div></div></div></div>"
      ],
      "text/plain": [
       "LinearRegression()"
      ]
     },
     "execution_count": 35,
     "metadata": {},
     "output_type": "execute_result"
    }
   ],
   "source": [
    "final_model.fit(X, y)"
   ]
  },
  {
   "attachments": {},
   "cell_type": "markdown",
   "metadata": {},
   "source": [
    "# Get the Beta Coefficient from Scikit Learn "
   ]
  },
  {
   "cell_type": "code",
   "execution_count": 37,
   "metadata": {},
   "outputs": [
    {
     "data": {
      "text/plain": [
       "array([ 0.04576465,  0.18853002, -0.00103749])"
      ]
     },
     "execution_count": 37,
     "metadata": {},
     "output_type": "execute_result"
    }
   ],
   "source": [
    "final_model.coef_"
   ]
  },
  {
   "cell_type": "code",
   "execution_count": 38,
   "metadata": {},
   "outputs": [],
   "source": [
    "y_hat = final_model.predict(X)"
   ]
  },
  {
   "cell_type": "code",
   "execution_count": 39,
   "metadata": {},
   "outputs": [
    {
     "data": {
      "text/plain": [
       "Text(0, 0.5, 'Sales')"
      ]
     },
     "execution_count": 39,
     "metadata": {},
     "output_type": "execute_result"
    },
    {
     "data": {
      "image/png": "[encoded data removed]",
      "text/plain": [
       "<Figure size 1152x432 with 3 Axes>"
      ]
     },
     "metadata": {
      "needs_background": "light"
     },
     "output_type": "display_data"
    }
   ],
   "source": [
    "fig, axes = plt.subplots(nrows = 1, ncols = 3, figsize = (16, 6))\n",
    "axes[0].plot(df['TV'], df['sales'], 'o')\n",
    "axes[0].plot(df['TV'], y_hat, 'o', color = 'red')\n",
    "axes[0].set_ylabel(\"Sales\")\n",
    "axes[0].set_title(\"TV Spend\")\n",
    "\n",
    "axes[1].plot(df['radio'], df['sales'], 'o')\n",
    "axes[1].plot(df['radio'], y_hat, 'o', color = 'red')\n",
    "axes[1].set_title(\"Radio Spend\")\n",
    "axes[1].set_ylabel(\"Sales\")\n",
    "\n",
    "axes[2].plot(df['newspaper'], df['sales'], 'o')\n",
    "axes[2].plot(df['newspaper'], y_hat, 'o', color = 'red')\n",
    "axes[2].set_title(\"Newspaper Spend\")\n",
    "axes[2].set_ylabel(\"Sales\")"
   ]
  },
  {
   "cell_type": "code",
   "execution_count": 40,
   "metadata": {},
   "outputs": [],
   "source": [
    "from joblib import dump, load"
   ]
  },
  {
   "cell_type": "code",
   "execution_count": 41,
   "metadata": {},
   "outputs": [
    {
     "data": {
      "text/plain": [
       "['final_sales_model.joblib']"
      ]
     },
     "execution_count": 41,
     "metadata": {},
     "output_type": "execute_result"
    }
   ],
   "source": [
    "dump(final_model, 'final_sales_model.joblib')"
   ]
  },
  {
   "cell_type": "code",
   "execution_count": 42,
   "metadata": {},
   "outputs": [],
   "source": [
    "loaded_model = load('final_sales_model.joblib')"
   ]
  },
  {
   "cell_type": "code",
   "execution_count": 43,
   "metadata": {},
   "outputs": [
    {
     "data": {
      "text/plain": [
       "array([ 0.04576465,  0.18853002, -0.00103749])"
      ]
     },
     "execution_count": 43,
     "metadata": {},
     "output_type": "execute_result"
    }
   ],
   "source": [
    "loaded_model.coef_"
   ]
  },
  {
   "cell_type": "code",
   "execution_count": 44,
   "metadata": {},
   "outputs": [
    {
     "data": {
      "text/plain": [
       "(200, 3)"
      ]
     },
     "execution_count": 44,
     "metadata": {},
     "output_type": "execute_result"
    }
   ],
   "source": [
    "X.shape"
   ]
  },
  {
   "cell_type": "code",
   "execution_count": 45,
   "metadata": {},
   "outputs": [],
   "source": [
    "#149 TV, 22 Radio, 12 Newsaper\n",
    "# Sales ?\n",
    "campaign = [[149, 22, 12]]"
   ]
  },
  {
   "cell_type": "code",
   "execution_count": 46,
   "metadata": {},
   "outputs": [
    {
     "name": "stderr",
     "output_type": "stream",
     "text": [
      "c:\\Users\\Shreyash\\AppData\\Local\\Programs\\Python\\Python310\\lib\\site-packages\\sklearn\\base.py:439: UserWarning: X does not have valid feature names, but LinearRegression was fitted with feature names\n",
      "  warnings.warn(\n"
     ]
    },
    {
     "data": {
      "text/plain": [
       "array([13.893032])"
      ]
     },
     "execution_count": 46,
     "metadata": {},
     "output_type": "execute_result"
    }
   ],
   "source": [
    "loaded_model.predict(campaign)"
   ]
  }
 ],
 "metadata": {
  "kernelspec": {
   "display_name": "Python 3",
   "language": "python",
   "name": "python3"
  },
  "language_info": {
   "codemirror_mode": {
    "name": "ipython",
    "version": 3
   },
   "file_extension": ".py",
   "mimetype": "text/x-python",
   "name": "python",
   "nbconvert_exporter": "python",
   "pygments_lexer": "ipython3",
   "version": "3.10.5"
  },
  "orig_nbformat": 4
 },
 "nbformat": 4,
 "nbformat_minor": 2
}
